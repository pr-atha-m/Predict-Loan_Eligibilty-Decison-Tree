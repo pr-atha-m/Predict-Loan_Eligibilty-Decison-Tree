{
 "cells": [
  {
   "cell_type": "markdown",
   "id": "454f8b00",
   "metadata": {},
   "source": [
    "# Importing Libraries\n"
   ]
  },
  {
   "cell_type": "code",
   "execution_count": 67,
   "id": "7d4f9e7f",
   "metadata": {},
   "outputs": [],
   "source": [
    "import pandas as pd \n",
    "import numpy as np                     # For mathematical calculations \n",
    "import seaborn as sns                  # For data visualization \n",
    "import matplotlib.pyplot as plt  # For plotting graphs \n",
    "%matplotlib inline \n",
    "import warnings   # To ignore any warnings \n",
    "warnings.filterwarnings(\"ignore\")"
   ]
  },
  {
   "cell_type": "markdown",
   "id": "240c01d6",
   "metadata": {},
   "source": [
    "# Reading Data"
   ]
  },
  {
   "cell_type": "code",
   "execution_count": 43,
   "id": "fe1b92d4",
   "metadata": {},
   "outputs": [
    {
     "data": {
      "text/html": [
       "<div>\n",
       "<style scoped>\n",
       "    .dataframe tbody tr th:only-of-type {\n",
       "        vertical-align: middle;\n",
       "    }\n",
       "\n",
       "    .dataframe tbody tr th {\n",
       "        vertical-align: top;\n",
       "    }\n",
       "\n",
       "    .dataframe thead th {\n",
       "        text-align: right;\n",
       "    }\n",
       "</style>\n",
       "<table border=\"1\" class=\"dataframe\">\n",
       "  <thead>\n",
       "    <tr style=\"text-align: right;\">\n",
       "      <th></th>\n",
       "      <th>Loan_ID</th>\n",
       "      <th>Gender</th>\n",
       "      <th>Married</th>\n",
       "      <th>Dependents</th>\n",
       "      <th>Education</th>\n",
       "      <th>Self_Employed</th>\n",
       "      <th>ApplicantIncome</th>\n",
       "      <th>CoapplicantIncome</th>\n",
       "      <th>LoanAmount</th>\n",
       "      <th>Loan_Amount_Term</th>\n",
       "      <th>Credit_History</th>\n",
       "      <th>Property_Area</th>\n",
       "      <th>Loan_Status</th>\n",
       "    </tr>\n",
       "  </thead>\n",
       "  <tbody>\n",
       "    <tr>\n",
       "      <th>0</th>\n",
       "      <td>LP001002</td>\n",
       "      <td>Male</td>\n",
       "      <td>No</td>\n",
       "      <td>0</td>\n",
       "      <td>Graduate</td>\n",
       "      <td>No</td>\n",
       "      <td>5849</td>\n",
       "      <td>0.0</td>\n",
       "      <td>NaN</td>\n",
       "      <td>360.0</td>\n",
       "      <td>1.0</td>\n",
       "      <td>Urban</td>\n",
       "      <td>Y</td>\n",
       "    </tr>\n",
       "    <tr>\n",
       "      <th>1</th>\n",
       "      <td>LP001003</td>\n",
       "      <td>Male</td>\n",
       "      <td>Yes</td>\n",
       "      <td>1</td>\n",
       "      <td>Graduate</td>\n",
       "      <td>No</td>\n",
       "      <td>4583</td>\n",
       "      <td>1508.0</td>\n",
       "      <td>128.0</td>\n",
       "      <td>360.0</td>\n",
       "      <td>1.0</td>\n",
       "      <td>Rural</td>\n",
       "      <td>N</td>\n",
       "    </tr>\n",
       "    <tr>\n",
       "      <th>2</th>\n",
       "      <td>LP001005</td>\n",
       "      <td>Male</td>\n",
       "      <td>Yes</td>\n",
       "      <td>0</td>\n",
       "      <td>Graduate</td>\n",
       "      <td>Yes</td>\n",
       "      <td>3000</td>\n",
       "      <td>0.0</td>\n",
       "      <td>66.0</td>\n",
       "      <td>360.0</td>\n",
       "      <td>1.0</td>\n",
       "      <td>Urban</td>\n",
       "      <td>Y</td>\n",
       "    </tr>\n",
       "    <tr>\n",
       "      <th>3</th>\n",
       "      <td>LP001006</td>\n",
       "      <td>Male</td>\n",
       "      <td>Yes</td>\n",
       "      <td>0</td>\n",
       "      <td>Not Graduate</td>\n",
       "      <td>No</td>\n",
       "      <td>2583</td>\n",
       "      <td>2358.0</td>\n",
       "      <td>120.0</td>\n",
       "      <td>360.0</td>\n",
       "      <td>1.0</td>\n",
       "      <td>Urban</td>\n",
       "      <td>Y</td>\n",
       "    </tr>\n",
       "    <tr>\n",
       "      <th>4</th>\n",
       "      <td>LP001008</td>\n",
       "      <td>Male</td>\n",
       "      <td>No</td>\n",
       "      <td>0</td>\n",
       "      <td>Graduate</td>\n",
       "      <td>No</td>\n",
       "      <td>6000</td>\n",
       "      <td>0.0</td>\n",
       "      <td>141.0</td>\n",
       "      <td>360.0</td>\n",
       "      <td>1.0</td>\n",
       "      <td>Urban</td>\n",
       "      <td>Y</td>\n",
       "    </tr>\n",
       "    <tr>\n",
       "      <th>5</th>\n",
       "      <td>LP001011</td>\n",
       "      <td>Male</td>\n",
       "      <td>Yes</td>\n",
       "      <td>2</td>\n",
       "      <td>Graduate</td>\n",
       "      <td>Yes</td>\n",
       "      <td>5417</td>\n",
       "      <td>4196.0</td>\n",
       "      <td>267.0</td>\n",
       "      <td>360.0</td>\n",
       "      <td>1.0</td>\n",
       "      <td>Urban</td>\n",
       "      <td>Y</td>\n",
       "    </tr>\n",
       "    <tr>\n",
       "      <th>6</th>\n",
       "      <td>LP001013</td>\n",
       "      <td>Male</td>\n",
       "      <td>Yes</td>\n",
       "      <td>0</td>\n",
       "      <td>Not Graduate</td>\n",
       "      <td>No</td>\n",
       "      <td>2333</td>\n",
       "      <td>1516.0</td>\n",
       "      <td>95.0</td>\n",
       "      <td>360.0</td>\n",
       "      <td>1.0</td>\n",
       "      <td>Urban</td>\n",
       "      <td>Y</td>\n",
       "    </tr>\n",
       "    <tr>\n",
       "      <th>7</th>\n",
       "      <td>LP001014</td>\n",
       "      <td>Male</td>\n",
       "      <td>Yes</td>\n",
       "      <td>3+</td>\n",
       "      <td>Graduate</td>\n",
       "      <td>No</td>\n",
       "      <td>3036</td>\n",
       "      <td>2504.0</td>\n",
       "      <td>158.0</td>\n",
       "      <td>360.0</td>\n",
       "      <td>0.0</td>\n",
       "      <td>Semiurban</td>\n",
       "      <td>N</td>\n",
       "    </tr>\n",
       "    <tr>\n",
       "      <th>8</th>\n",
       "      <td>LP001018</td>\n",
       "      <td>Male</td>\n",
       "      <td>Yes</td>\n",
       "      <td>2</td>\n",
       "      <td>Graduate</td>\n",
       "      <td>No</td>\n",
       "      <td>4006</td>\n",
       "      <td>1526.0</td>\n",
       "      <td>168.0</td>\n",
       "      <td>360.0</td>\n",
       "      <td>1.0</td>\n",
       "      <td>Urban</td>\n",
       "      <td>Y</td>\n",
       "    </tr>\n",
       "    <tr>\n",
       "      <th>9</th>\n",
       "      <td>LP001020</td>\n",
       "      <td>Male</td>\n",
       "      <td>Yes</td>\n",
       "      <td>1</td>\n",
       "      <td>Graduate</td>\n",
       "      <td>No</td>\n",
       "      <td>12841</td>\n",
       "      <td>10968.0</td>\n",
       "      <td>349.0</td>\n",
       "      <td>360.0</td>\n",
       "      <td>1.0</td>\n",
       "      <td>Semiurban</td>\n",
       "      <td>N</td>\n",
       "    </tr>\n",
       "    <tr>\n",
       "      <th>10</th>\n",
       "      <td>LP001024</td>\n",
       "      <td>Male</td>\n",
       "      <td>Yes</td>\n",
       "      <td>2</td>\n",
       "      <td>Graduate</td>\n",
       "      <td>No</td>\n",
       "      <td>3200</td>\n",
       "      <td>700.0</td>\n",
       "      <td>70.0</td>\n",
       "      <td>360.0</td>\n",
       "      <td>1.0</td>\n",
       "      <td>Urban</td>\n",
       "      <td>Y</td>\n",
       "    </tr>\n",
       "    <tr>\n",
       "      <th>11</th>\n",
       "      <td>LP001027</td>\n",
       "      <td>Male</td>\n",
       "      <td>Yes</td>\n",
       "      <td>2</td>\n",
       "      <td>Graduate</td>\n",
       "      <td>NaN</td>\n",
       "      <td>2500</td>\n",
       "      <td>1840.0</td>\n",
       "      <td>109.0</td>\n",
       "      <td>360.0</td>\n",
       "      <td>1.0</td>\n",
       "      <td>Urban</td>\n",
       "      <td>Y</td>\n",
       "    </tr>\n",
       "    <tr>\n",
       "      <th>12</th>\n",
       "      <td>LP001028</td>\n",
       "      <td>Male</td>\n",
       "      <td>Yes</td>\n",
       "      <td>2</td>\n",
       "      <td>Graduate</td>\n",
       "      <td>No</td>\n",
       "      <td>3073</td>\n",
       "      <td>8106.0</td>\n",
       "      <td>200.0</td>\n",
       "      <td>360.0</td>\n",
       "      <td>1.0</td>\n",
       "      <td>Urban</td>\n",
       "      <td>Y</td>\n",
       "    </tr>\n",
       "    <tr>\n",
       "      <th>13</th>\n",
       "      <td>LP001029</td>\n",
       "      <td>Male</td>\n",
       "      <td>No</td>\n",
       "      <td>0</td>\n",
       "      <td>Graduate</td>\n",
       "      <td>No</td>\n",
       "      <td>1853</td>\n",
       "      <td>2840.0</td>\n",
       "      <td>114.0</td>\n",
       "      <td>360.0</td>\n",
       "      <td>1.0</td>\n",
       "      <td>Rural</td>\n",
       "      <td>N</td>\n",
       "    </tr>\n",
       "    <tr>\n",
       "      <th>14</th>\n",
       "      <td>LP001030</td>\n",
       "      <td>Male</td>\n",
       "      <td>Yes</td>\n",
       "      <td>2</td>\n",
       "      <td>Graduate</td>\n",
       "      <td>No</td>\n",
       "      <td>1299</td>\n",
       "      <td>1086.0</td>\n",
       "      <td>17.0</td>\n",
       "      <td>120.0</td>\n",
       "      <td>1.0</td>\n",
       "      <td>Urban</td>\n",
       "      <td>Y</td>\n",
       "    </tr>\n",
       "    <tr>\n",
       "      <th>15</th>\n",
       "      <td>LP001032</td>\n",
       "      <td>Male</td>\n",
       "      <td>No</td>\n",
       "      <td>0</td>\n",
       "      <td>Graduate</td>\n",
       "      <td>No</td>\n",
       "      <td>4950</td>\n",
       "      <td>0.0</td>\n",
       "      <td>125.0</td>\n",
       "      <td>360.0</td>\n",
       "      <td>1.0</td>\n",
       "      <td>Urban</td>\n",
       "      <td>Y</td>\n",
       "    </tr>\n",
       "    <tr>\n",
       "      <th>16</th>\n",
       "      <td>LP001034</td>\n",
       "      <td>Male</td>\n",
       "      <td>No</td>\n",
       "      <td>1</td>\n",
       "      <td>Not Graduate</td>\n",
       "      <td>No</td>\n",
       "      <td>3596</td>\n",
       "      <td>0.0</td>\n",
       "      <td>100.0</td>\n",
       "      <td>240.0</td>\n",
       "      <td>NaN</td>\n",
       "      <td>Urban</td>\n",
       "      <td>Y</td>\n",
       "    </tr>\n",
       "    <tr>\n",
       "      <th>17</th>\n",
       "      <td>LP001036</td>\n",
       "      <td>Female</td>\n",
       "      <td>No</td>\n",
       "      <td>0</td>\n",
       "      <td>Graduate</td>\n",
       "      <td>No</td>\n",
       "      <td>3510</td>\n",
       "      <td>0.0</td>\n",
       "      <td>76.0</td>\n",
       "      <td>360.0</td>\n",
       "      <td>0.0</td>\n",
       "      <td>Urban</td>\n",
       "      <td>N</td>\n",
       "    </tr>\n",
       "    <tr>\n",
       "      <th>18</th>\n",
       "      <td>LP001038</td>\n",
       "      <td>Male</td>\n",
       "      <td>Yes</td>\n",
       "      <td>0</td>\n",
       "      <td>Not Graduate</td>\n",
       "      <td>No</td>\n",
       "      <td>4887</td>\n",
       "      <td>0.0</td>\n",
       "      <td>133.0</td>\n",
       "      <td>360.0</td>\n",
       "      <td>1.0</td>\n",
       "      <td>Rural</td>\n",
       "      <td>N</td>\n",
       "    </tr>\n",
       "    <tr>\n",
       "      <th>19</th>\n",
       "      <td>LP001041</td>\n",
       "      <td>Male</td>\n",
       "      <td>Yes</td>\n",
       "      <td>0</td>\n",
       "      <td>Graduate</td>\n",
       "      <td>NaN</td>\n",
       "      <td>2600</td>\n",
       "      <td>3500.0</td>\n",
       "      <td>115.0</td>\n",
       "      <td>NaN</td>\n",
       "      <td>1.0</td>\n",
       "      <td>Urban</td>\n",
       "      <td>Y</td>\n",
       "    </tr>\n",
       "    <tr>\n",
       "      <th>20</th>\n",
       "      <td>LP001043</td>\n",
       "      <td>Male</td>\n",
       "      <td>Yes</td>\n",
       "      <td>0</td>\n",
       "      <td>Not Graduate</td>\n",
       "      <td>No</td>\n",
       "      <td>7660</td>\n",
       "      <td>0.0</td>\n",
       "      <td>104.0</td>\n",
       "      <td>360.0</td>\n",
       "      <td>0.0</td>\n",
       "      <td>Urban</td>\n",
       "      <td>N</td>\n",
       "    </tr>\n",
       "    <tr>\n",
       "      <th>21</th>\n",
       "      <td>LP001046</td>\n",
       "      <td>Male</td>\n",
       "      <td>Yes</td>\n",
       "      <td>1</td>\n",
       "      <td>Graduate</td>\n",
       "      <td>No</td>\n",
       "      <td>5955</td>\n",
       "      <td>5625.0</td>\n",
       "      <td>315.0</td>\n",
       "      <td>360.0</td>\n",
       "      <td>1.0</td>\n",
       "      <td>Urban</td>\n",
       "      <td>Y</td>\n",
       "    </tr>\n",
       "    <tr>\n",
       "      <th>22</th>\n",
       "      <td>LP001047</td>\n",
       "      <td>Male</td>\n",
       "      <td>Yes</td>\n",
       "      <td>0</td>\n",
       "      <td>Not Graduate</td>\n",
       "      <td>No</td>\n",
       "      <td>2600</td>\n",
       "      <td>1911.0</td>\n",
       "      <td>116.0</td>\n",
       "      <td>360.0</td>\n",
       "      <td>0.0</td>\n",
       "      <td>Semiurban</td>\n",
       "      <td>N</td>\n",
       "    </tr>\n",
       "    <tr>\n",
       "      <th>23</th>\n",
       "      <td>LP001050</td>\n",
       "      <td>NaN</td>\n",
       "      <td>Yes</td>\n",
       "      <td>2</td>\n",
       "      <td>Not Graduate</td>\n",
       "      <td>No</td>\n",
       "      <td>3365</td>\n",
       "      <td>1917.0</td>\n",
       "      <td>112.0</td>\n",
       "      <td>360.0</td>\n",
       "      <td>0.0</td>\n",
       "      <td>Rural</td>\n",
       "      <td>N</td>\n",
       "    </tr>\n",
       "    <tr>\n",
       "      <th>24</th>\n",
       "      <td>LP001052</td>\n",
       "      <td>Male</td>\n",
       "      <td>Yes</td>\n",
       "      <td>1</td>\n",
       "      <td>Graduate</td>\n",
       "      <td>NaN</td>\n",
       "      <td>3717</td>\n",
       "      <td>2925.0</td>\n",
       "      <td>151.0</td>\n",
       "      <td>360.0</td>\n",
       "      <td>NaN</td>\n",
       "      <td>Semiurban</td>\n",
       "      <td>N</td>\n",
       "    </tr>\n",
       "    <tr>\n",
       "      <th>25</th>\n",
       "      <td>LP001066</td>\n",
       "      <td>Male</td>\n",
       "      <td>Yes</td>\n",
       "      <td>0</td>\n",
       "      <td>Graduate</td>\n",
       "      <td>Yes</td>\n",
       "      <td>9560</td>\n",
       "      <td>0.0</td>\n",
       "      <td>191.0</td>\n",
       "      <td>360.0</td>\n",
       "      <td>1.0</td>\n",
       "      <td>Semiurban</td>\n",
       "      <td>Y</td>\n",
       "    </tr>\n",
       "    <tr>\n",
       "      <th>26</th>\n",
       "      <td>LP001068</td>\n",
       "      <td>Male</td>\n",
       "      <td>Yes</td>\n",
       "      <td>0</td>\n",
       "      <td>Graduate</td>\n",
       "      <td>No</td>\n",
       "      <td>2799</td>\n",
       "      <td>2253.0</td>\n",
       "      <td>122.0</td>\n",
       "      <td>360.0</td>\n",
       "      <td>1.0</td>\n",
       "      <td>Semiurban</td>\n",
       "      <td>Y</td>\n",
       "    </tr>\n",
       "    <tr>\n",
       "      <th>27</th>\n",
       "      <td>LP001073</td>\n",
       "      <td>Male</td>\n",
       "      <td>Yes</td>\n",
       "      <td>2</td>\n",
       "      <td>Not Graduate</td>\n",
       "      <td>No</td>\n",
       "      <td>4226</td>\n",
       "      <td>1040.0</td>\n",
       "      <td>110.0</td>\n",
       "      <td>360.0</td>\n",
       "      <td>1.0</td>\n",
       "      <td>Urban</td>\n",
       "      <td>Y</td>\n",
       "    </tr>\n",
       "    <tr>\n",
       "      <th>28</th>\n",
       "      <td>LP001086</td>\n",
       "      <td>Male</td>\n",
       "      <td>No</td>\n",
       "      <td>0</td>\n",
       "      <td>Not Graduate</td>\n",
       "      <td>No</td>\n",
       "      <td>1442</td>\n",
       "      <td>0.0</td>\n",
       "      <td>35.0</td>\n",
       "      <td>360.0</td>\n",
       "      <td>1.0</td>\n",
       "      <td>Urban</td>\n",
       "      <td>N</td>\n",
       "    </tr>\n",
       "    <tr>\n",
       "      <th>29</th>\n",
       "      <td>LP001087</td>\n",
       "      <td>Female</td>\n",
       "      <td>No</td>\n",
       "      <td>2</td>\n",
       "      <td>Graduate</td>\n",
       "      <td>NaN</td>\n",
       "      <td>3750</td>\n",
       "      <td>2083.0</td>\n",
       "      <td>120.0</td>\n",
       "      <td>360.0</td>\n",
       "      <td>1.0</td>\n",
       "      <td>Semiurban</td>\n",
       "      <td>Y</td>\n",
       "    </tr>\n",
       "  </tbody>\n",
       "</table>\n",
       "</div>"
      ],
      "text/plain": [
       "     Loan_ID  Gender Married Dependents     Education Self_Employed  \\\n",
       "0   LP001002    Male      No          0      Graduate            No   \n",
       "1   LP001003    Male     Yes          1      Graduate            No   \n",
       "2   LP001005    Male     Yes          0      Graduate           Yes   \n",
       "3   LP001006    Male     Yes          0  Not Graduate            No   \n",
       "4   LP001008    Male      No          0      Graduate            No   \n",
       "5   LP001011    Male     Yes          2      Graduate           Yes   \n",
       "6   LP001013    Male     Yes          0  Not Graduate            No   \n",
       "7   LP001014    Male     Yes         3+      Graduate            No   \n",
       "8   LP001018    Male     Yes          2      Graduate            No   \n",
       "9   LP001020    Male     Yes          1      Graduate            No   \n",
       "10  LP001024    Male     Yes          2      Graduate            No   \n",
       "11  LP001027    Male     Yes          2      Graduate           NaN   \n",
       "12  LP001028    Male     Yes          2      Graduate            No   \n",
       "13  LP001029    Male      No          0      Graduate            No   \n",
       "14  LP001030    Male     Yes          2      Graduate            No   \n",
       "15  LP001032    Male      No          0      Graduate            No   \n",
       "16  LP001034    Male      No          1  Not Graduate            No   \n",
       "17  LP001036  Female      No          0      Graduate            No   \n",
       "18  LP001038    Male     Yes          0  Not Graduate            No   \n",
       "19  LP001041    Male     Yes          0      Graduate           NaN   \n",
       "20  LP001043    Male     Yes          0  Not Graduate            No   \n",
       "21  LP001046    Male     Yes          1      Graduate            No   \n",
       "22  LP001047    Male     Yes          0  Not Graduate            No   \n",
       "23  LP001050     NaN     Yes          2  Not Graduate            No   \n",
       "24  LP001052    Male     Yes          1      Graduate           NaN   \n",
       "25  LP001066    Male     Yes          0      Graduate           Yes   \n",
       "26  LP001068    Male     Yes          0      Graduate            No   \n",
       "27  LP001073    Male     Yes          2  Not Graduate            No   \n",
       "28  LP001086    Male      No          0  Not Graduate            No   \n",
       "29  LP001087  Female      No          2      Graduate           NaN   \n",
       "\n",
       "    ApplicantIncome  CoapplicantIncome  LoanAmount  Loan_Amount_Term  \\\n",
       "0              5849                0.0         NaN             360.0   \n",
       "1              4583             1508.0       128.0             360.0   \n",
       "2              3000                0.0        66.0             360.0   \n",
       "3              2583             2358.0       120.0             360.0   \n",
       "4              6000                0.0       141.0             360.0   \n",
       "5              5417             4196.0       267.0             360.0   \n",
       "6              2333             1516.0        95.0             360.0   \n",
       "7              3036             2504.0       158.0             360.0   \n",
       "8              4006             1526.0       168.0             360.0   \n",
       "9             12841            10968.0       349.0             360.0   \n",
       "10             3200              700.0        70.0             360.0   \n",
       "11             2500             1840.0       109.0             360.0   \n",
       "12             3073             8106.0       200.0             360.0   \n",
       "13             1853             2840.0       114.0             360.0   \n",
       "14             1299             1086.0        17.0             120.0   \n",
       "15             4950                0.0       125.0             360.0   \n",
       "16             3596                0.0       100.0             240.0   \n",
       "17             3510                0.0        76.0             360.0   \n",
       "18             4887                0.0       133.0             360.0   \n",
       "19             2600             3500.0       115.0               NaN   \n",
       "20             7660                0.0       104.0             360.0   \n",
       "21             5955             5625.0       315.0             360.0   \n",
       "22             2600             1911.0       116.0             360.0   \n",
       "23             3365             1917.0       112.0             360.0   \n",
       "24             3717             2925.0       151.0             360.0   \n",
       "25             9560                0.0       191.0             360.0   \n",
       "26             2799             2253.0       122.0             360.0   \n",
       "27             4226             1040.0       110.0             360.0   \n",
       "28             1442                0.0        35.0             360.0   \n",
       "29             3750             2083.0       120.0             360.0   \n",
       "\n",
       "    Credit_History Property_Area Loan_Status  \n",
       "0              1.0         Urban           Y  \n",
       "1              1.0         Rural           N  \n",
       "2              1.0         Urban           Y  \n",
       "3              1.0         Urban           Y  \n",
       "4              1.0         Urban           Y  \n",
       "5              1.0         Urban           Y  \n",
       "6              1.0         Urban           Y  \n",
       "7              0.0     Semiurban           N  \n",
       "8              1.0         Urban           Y  \n",
       "9              1.0     Semiurban           N  \n",
       "10             1.0         Urban           Y  \n",
       "11             1.0         Urban           Y  \n",
       "12             1.0         Urban           Y  \n",
       "13             1.0         Rural           N  \n",
       "14             1.0         Urban           Y  \n",
       "15             1.0         Urban           Y  \n",
       "16             NaN         Urban           Y  \n",
       "17             0.0         Urban           N  \n",
       "18             1.0         Rural           N  \n",
       "19             1.0         Urban           Y  \n",
       "20             0.0         Urban           N  \n",
       "21             1.0         Urban           Y  \n",
       "22             0.0     Semiurban           N  \n",
       "23             0.0         Rural           N  \n",
       "24             NaN     Semiurban           N  \n",
       "25             1.0     Semiurban           Y  \n",
       "26             1.0     Semiurban           Y  \n",
       "27             1.0         Urban           Y  \n",
       "28             1.0         Urban           N  \n",
       "29             1.0     Semiurban           Y  "
      ]
     },
     "execution_count": 43,
     "metadata": {},
     "output_type": "execute_result"
    }
   ],
   "source": [
    "#Reading data\n",
    "train_data = pd.read_csv('train_ctrUa4K.csv')\n",
    "test_data = pd.read_csv('test_lAUu6dG.csv')\n",
    "train_data.head(30)"
   ]
  },
  {
   "cell_type": "markdown",
   "id": "1159a1dc",
   "metadata": {},
   "source": [
    "# Understanding Data\n"
   ]
  },
  {
   "cell_type": "code",
   "execution_count": 36,
   "id": "6488db9a",
   "metadata": {},
   "outputs": [
    {
     "data": {
      "text/plain": [
       "Index(['Loan_ID', 'Gender', 'Married', 'Dependents', 'Education',\n",
       "       'Self_Employed', 'ApplicantIncome', 'CoapplicantIncome', 'LoanAmount',\n",
       "       'Loan_Amount_Term', 'Credit_History', 'Property_Area', 'Loan_Status'],\n",
       "      dtype='object')"
      ]
     },
     "execution_count": 36,
     "metadata": {},
     "output_type": "execute_result"
    }
   ],
   "source": [
    "train_data.columns"
   ]
  },
  {
   "cell_type": "markdown",
   "id": "a8af942a",
   "metadata": {},
   "source": [
    "There are 12 independent Variables and 1 Target Variable(Loan_status)."
   ]
  },
  {
   "cell_type": "code",
   "execution_count": 37,
   "id": "d4268dbe",
   "metadata": {},
   "outputs": [
    {
     "data": {
      "text/plain": [
       "Index(['Loan_ID', 'Gender', 'Married', 'Dependents', 'Education',\n",
       "       'Self_Employed', 'ApplicantIncome', 'CoapplicantIncome', 'LoanAmount',\n",
       "       'Loan_Amount_Term', 'Credit_History', 'Property_Area'],\n",
       "      dtype='object')"
      ]
     },
     "execution_count": 37,
     "metadata": {},
     "output_type": "execute_result"
    }
   ],
   "source": [
    "test_data.columns"
   ]
  },
  {
   "cell_type": "markdown",
   "id": "24ee7c4f",
   "metadata": {},
   "source": [
    "We have similar features in the test dataset as the train dataset except the Loan_Status"
   ]
  },
  {
   "cell_type": "code",
   "execution_count": 38,
   "id": "17d4dac1",
   "metadata": {},
   "outputs": [
    {
     "data": {
      "text/plain": [
       "Loan_ID               object\n",
       "Gender                object\n",
       "Married               object\n",
       "Dependents            object\n",
       "Education             object\n",
       "Self_Employed         object\n",
       "ApplicantIncome        int64\n",
       "CoapplicantIncome    float64\n",
       "LoanAmount           float64\n",
       "Loan_Amount_Term     float64\n",
       "Credit_History       float64\n",
       "Property_Area         object\n",
       "Loan_Status           object\n",
       "dtype: object"
      ]
     },
     "execution_count": 38,
     "metadata": {},
     "output_type": "execute_result"
    }
   ],
   "source": [
    "# Print data types for each variable train.dtypes\n",
    "train_data.dtypes"
   ]
  },
  {
   "cell_type": "markdown",
   "id": "e239932b",
   "metadata": {},
   "source": [
    "# Univariate Analysis"
   ]
  },
  {
   "cell_type": "code",
   "execution_count": 39,
   "id": "5e1a4888",
   "metadata": {},
   "outputs": [
    {
     "data": {
      "text/plain": [
       "Y    422\n",
       "N    192\n",
       "Name: Loan_Status, dtype: int64"
      ]
     },
     "execution_count": 39,
     "metadata": {},
     "output_type": "execute_result"
    }
   ],
   "source": [
    "# Analysis of Target Variable Loan_status\n",
    "train_data['Loan_Status'].value_counts()"
   ]
  },
  {
   "cell_type": "markdown",
   "id": "f5d16f04",
   "metadata": {},
   "source": [
    "Out of 614 Applicants 422 were aprroved for Loan"
   ]
  },
  {
   "cell_type": "code",
   "execution_count": 42,
   "id": "9b9eac63",
   "metadata": {},
   "outputs": [
    {
     "data": {
      "text/plain": [
       "<AxesSubplot:>"
      ]
     },
     "execution_count": 42,
     "metadata": {},
     "output_type": "execute_result"
    },
    {
     "data": {
      "image/png": "[encoded data removed]",
      "text/plain": [
       "<Figure size 640x480 with 1 Axes>"
      ]
     },
     "metadata": {},
     "output_type": "display_data"
    }
   ],
   "source": [
    "plt.style.use('default')\n",
    "#bar plot for visulalisation of distribution of target variable\n",
    "train_data['Loan_Status'].value_counts().plot.bar()"
   ]
  },
  {
   "cell_type": "markdown",
   "id": "b93feb89",
   "metadata": {},
   "source": [
    "# Analysis of Dependent Variables"
   ]
  },
  {
   "cell_type": "code",
   "execution_count": 51,
   "id": "820a0334",
   "metadata": {},
   "outputs": [
    {
     "data": {
      "image/png": "[encoded data removed]",
      "text/plain": [
       "<Figure size 2000x1000 with 4 Axes>"
      ]
     },
     "metadata": {},
     "output_type": "display_data"
    }
   ],
   "source": [
    "#Nominal categorical variables\n",
    "\n",
    "plt.subplot(221) \n",
    "train_data['Gender'].value_counts(normalize=True).plot.bar(figsize=(20,10), title= 'Gender') \n",
    "plt.subplot(222)\n",
    "train_data['Married'].value_counts(normalize=True).plot.bar(title= 'Married') \n",
    "plt.subplot(223)\n",
    "train_data['Self_Employed'].value_counts(normalize=True).plot.bar(title= 'Self_Employed') \n",
    "plt.subplot(224) \n",
    "train_data['Credit_History'].value_counts(normalize=True).plot.bar(title= 'Credit_History') \n",
    "plt.show()\n",
    "\n",
    "# Normalize can be set to True to print proportions instead of number "
   ]
  },
  {
   "cell_type": "code",
   "execution_count": 58,
   "id": "98e13013",
   "metadata": {},
   "outputs": [
    {
     "data": {
      "image/png": "[encoded data removed]",
      "text/plain": [
       "<Figure size 2400x600 with 3 Axes>"
      ]
     },
     "metadata": {},
     "output_type": "display_data"
    }
   ],
   "source": [
    "# Ordinal Categorical Variables\n",
    "plt.figure(1) \n",
    "plt.subplot(131) \n",
    "train_data['Dependents'].value_counts(normalize=True).plot.bar(figsize=(24,6), title= 'Dependents') \n",
    "plt.subplot(132)\n",
    "train_data['Education'].value_counts(normalize=True).plot.bar(title= 'Education') \n",
    "plt.subplot(133) \n",
    "train_data['Property_Area'].value_counts(normalize=True).plot.bar(title= 'Property_Area') \n",
    "plt.show()"
   ]
  },
  {
   "cell_type": "markdown",
   "id": "f4a423ff",
   "metadata": {},
   "source": [
    "# Numerical Variables"
   ]
  },
  {
   "cell_type": "code",
   "execution_count": 68,
   "id": "48b6f16e",
   "metadata": {},
   "outputs": [
    {
     "data": {
      "image/png": "[encoded data removed]",
      "text/plain": [
       "<Figure size 1152x360 with 2 Axes>"
      ]
     },
     "metadata": {
      "needs_background": "light"
     },
     "output_type": "display_data"
    }
   ],
   "source": [
    "# Analysis of Numerical Variables ('ApplicantIncome' , 'CoapplicantIncome' , 'LoanAmount')\n",
    "plt.figure(1) \n",
    "plt.subplot(121) \n",
    "sns.distplot(train_data['ApplicantIncome']); \n",
    "plt.subplot(122) \n",
    "train_data['ApplicantIncome'].plot.box(figsize=(16,5)) \n",
    "plt.show()"
   ]
  },
  {
   "cell_type": "markdown",
   "id": "0ebe8e79",
   "metadata": {},
   "source": [
    "It can clearly be observed ApplicantIncome is left skewed and thus data is not uniformly distributed. And BoxPlot confirms presence of outliers/extreme values in the data"
   ]
  },
  {
   "cell_type": "code",
   "execution_count": 71,
   "id": "a9e9fb93",
   "metadata": {},
   "outputs": [
    {
     "data": {
      "text/plain": [
       "Text(0.5, 0.98, '')"
      ]
     },
     "execution_count": 71,
     "metadata": {},
     "output_type": "execute_result"
    },
    {
     "data": {
      "image/png": "[encoded data removed]",
      "text/plain": [
       "<Figure size 432x288 with 1 Axes>"
      ]
     },
     "metadata": {
      "needs_background": "light"
     },
     "output_type": "display_data"
    }
   ],
   "source": [
    "train_data.boxplot(column='ApplicantIncome', by = 'Education') \n",
    "plt.suptitle(\"\")\n"
   ]
  },
  {
   "cell_type": "markdown",
   "id": "d2ae8f6c",
   "metadata": {},
   "source": [
    "Graduated people are having more income leading to outliers"
   ]
  },
  {
   "cell_type": "code",
   "execution_count": 75,
   "id": "cc29eca3",
   "metadata": {},
   "outputs": [
    {
     "data": {
      "image/png": "[encoded data removed]",
      "text/plain": [
       "<Figure size 1152x360 with 2 Axes>"
      ]
     },
     "metadata": {
      "needs_background": "light"
     },
     "output_type": "display_data"
    }
   ],
   "source": [
    "plt.figure(1) \n",
    "plt.subplot(121) \n",
    "sns.distplot(train_data['CoapplicantIncome']); \n",
    "plt.subplot(122) \n",
    "train_data['CoapplicantIncome'].plot.box(figsize=(16,5)) \n",
    "plt.show()"
   ]
  },
  {
   "cell_type": "markdown",
   "id": "e8590501",
   "metadata": {},
   "source": [
    "Outliers can be seen and data is not normally Distributed"
   ]
  },
  {
   "cell_type": "code",
   "execution_count": 79,
   "id": "a265390f",
   "metadata": {},
   "outputs": [
    {
     "data": {
      "text/plain": [
       "<AxesSubplot:>"
      ]
     },
     "execution_count": 79,
     "metadata": {},
     "output_type": "execute_result"
    },
    {
     "data": {
      "image/png": "[encoded data removed]",
      "text/plain": [
       "<Figure size 1152x360 with 2 Axes>"
      ]
     },
     "metadata": {
      "needs_background": "light"
     },
     "output_type": "display_data"
    }
   ],
   "source": [
    "plt.figure(1)\n",
    "plt.subplot(121)\n",
    "sns.distplot(train_data['LoanAmount'])\n",
    "plt.subplot(122)\n",
    "train_data['LoanAmount'].plot.box(figsize = (16,5))\n"
   ]
  },
  {
   "cell_type": "markdown",
   "id": "93a67ae8",
   "metadata": {},
   "source": [
    "A lot of outliers are present and data is fairly normal distributed"
   ]
  },
  {
   "cell_type": "markdown",
   "id": "e644c93c",
   "metadata": {},
   "source": [
    "# Bivariate Analysis"
   ]
  },
  {
   "cell_type": "markdown",
   "id": "d8a8400d",
   "metadata": {},
   "source": [
    "Categorical Variables\n"
   ]
  },
  {
   "cell_type": "code",
   "execution_count": 88,
   "id": "85cfcc6b",
   "metadata": {},
   "outputs": [
    {
     "data": {
      "text/plain": [
       "<AxesSubplot:xlabel='Gender'>"
      ]
     },
     "execution_count": 88,
     "metadata": {},
     "output_type": "execute_result"
    },
    {
     "data": {
      "image/png": "[encoded data removed]",
      "text/plain": [
       "<Figure size 288x288 with 1 Axes>"
      ]
     },
     "metadata": {
      "needs_background": "light"
     },
     "output_type": "display_data"
    }
   ],
   "source": [
    "#relationship between Categorical Variables And Target Variables\n",
    "Gender=pd.crosstab(train_data['Gender'],train_data['Loan_Status'])\n",
    "Gender.div(Gender.sum(1).astype(float), axis=0).plot(kind=\"bar\", stacked=True, figsize=(4,4),color = ['red','blue'])\n",
    "# Y - YES , N - NO"
   ]
  },
  {
   "cell_type": "markdown",
   "id": "f9cf5068",
   "metadata": {},
   "source": [
    "It can be inferred that the proportion of male and female applicants is more or less same for both approved and unapproved loans."
   ]
  },
  {
   "cell_type": "code",
   "execution_count": 92,
   "id": "8e03ed76",
   "metadata": {},
   "outputs": [
    {
     "data": {
      "text/plain": [
       "<Figure size 432x288 with 0 Axes>"
      ]
     },
     "metadata": {},
     "output_type": "display_data"
    },
    {
     "data": {
      "image/png": "[encoded data removed]",
      "text/plain": [
       "<Figure size 288x288 with 1 Axes>"
      ]
     },
     "metadata": {
      "needs_background": "light"
     },
     "output_type": "display_data"
    },
    {
     "data": {
      "image/png": "[encoded data removed]",
      "text/plain": [
       "<Figure size 432x288 with 1 Axes>"
      ]
     },
     "metadata": {
      "needs_background": "light"
     },
     "output_type": "display_data"
    },
    {
     "data": {
      "image/png": "[encoded data removed]",
      "text/plain": [
       "<Figure size 288x288 with 1 Axes>"
      ]
     },
     "metadata": {
      "needs_background": "light"
     },
     "output_type": "display_data"
    },
    {
     "data": {
      "image/png": "[encoded data removed]",
      "text/plain": [
       "<Figure size 288x288 with 1 Axes>"
      ]
     },
     "metadata": {
      "needs_background": "light"
     },
     "output_type": "display_data"
    }
   ],
   "source": [
    "#rest of categorical variables\n",
    "plt.figure(1)\n",
    "Married=pd.crosstab(train_data['Married'],train_data['Loan_Status']) \n",
    "Dependents=pd.crosstab(train_data['Dependents'],train_data['Loan_Status']) \n",
    "Education=pd.crosstab(train_data['Education'],train_data['Loan_Status'])\n",
    "Self_Employed=pd.crosstab(train_data['Self_Employed'],train_data['Loan_Status'])\n",
    "\n",
    "Married.div(Married.sum(1).astype(float), axis=0).plot(kind=\"bar\", stacked=True, figsize=(4,4),color = ['red','blue'])\n",
    "plt.show() \n",
    "\n",
    "Dependents.div(Dependents.sum(1).astype(float), axis=0).plot(kind=\"bar\", stacked=True,color = ['red','blue']) \n",
    "plt.show() \n",
    "\n",
    "Education.div(Education.sum(1).astype(float), axis=0).plot(kind=\"bar\", stacked=True, figsize=(4,4),color = ['red','blue'])\n",
    "plt.show() \n",
    "\n",
    "Self_Employed.div(Self_Employed.sum(1).astype(float), axis=0).plot(kind=\"bar\", stacked=True, figsize=(4,4),color = ['red','blue']) \n",
    "plt.show()"
   ]
  },
  {
   "cell_type": "raw",
   "id": "06d6bf20",
   "metadata": {},
   "source": [
    "Point to be Noted :\n",
    "1) Distribution of applicants with 1 or 3+ dependents is similar across both the categories of Loan_Status.\n",
    "2) Those who are graduated have high chances of getting loan aprroval.\n",
    "3) There is nothing significant we can infer from Self_Employed vs Loan_Status plot.\n",
    "4) Those who are married are having high chances of getting loan aprroval"
   ]
  },
  {
   "cell_type": "code",
   "execution_count": 94,
   "id": "6e51c152",
   "metadata": {},
   "outputs": [
    {
     "data": {
      "image/png": "[encoded data removed]",
      "text/plain": [
       "<Figure size 288x288 with 1 Axes>"
      ]
     },
     "metadata": {
      "needs_background": "light"
     },
     "output_type": "display_data"
    },
    {
     "data": {
      "image/png": "[encoded data removed]",
      "text/plain": [
       "<Figure size 432x288 with 1 Axes>"
      ]
     },
     "metadata": {
      "needs_background": "light"
     },
     "output_type": "display_data"
    }
   ],
   "source": [
    "Credit_History=pd.crosstab(train_data['Credit_History'],train_data['Loan_Status'])\n",
    "Property_Area=pd.crosstab(train_data['Property_Area'],train_data['Loan_Status']) \n",
    "Credit_History.div(Credit_History.sum(1).astype(float), axis=0).plot(kind=\"bar\", stacked=True, figsize=(4,4),color= ['green','purple'])\n",
    "plt.show() \n",
    "Property_Area.div(Property_Area.sum(1).astype(float), axis=0).plot(kind=\"bar\", stacked=True , color= ['green','purple']) \n",
    "plt.show()"
   ]
  },
  {
   "cell_type": "raw",
   "id": "e49f981d",
   "metadata": {},
   "source": [
    "Point to be noted:\n",
    "1) It seems people with credit history as 1 are more likely to get their loans approved.\n",
    "2) Proportion of loans getting approved in semiurban area is higher as compared to that in rural or urban areas.|"
   ]
  },
  {
   "cell_type": "markdown",
   "id": "86dee663",
   "metadata": {},
   "source": [
    "Numerical Variables"
   ]
  },
  {
   "cell_type": "code",
   "execution_count": 96,
   "id": "ff6805b1",
   "metadata": {},
   "outputs": [
    {
     "data": {
      "text/plain": [
       "<AxesSubplot:xlabel='Loan_Status'>"
      ]
     },
     "execution_count": 96,
     "metadata": {},
     "output_type": "execute_result"
    },
    {
     "data": {
      "image/png": "[encoded data removed]",
      "text/plain": [
       "<Figure size 432x288 with 1 Axes>"
      ]
     },
     "metadata": {
      "needs_background": "light"
     },
     "output_type": "display_data"
    }
   ],
   "source": [
    "train_data.groupby('Loan_Status')['ApplicantIncome'].mean().plot.bar()"
   ]
  },
  {
   "cell_type": "markdown",
   "id": "8fc14b1d",
   "metadata": {},
   "source": [
    "There is not visible difference between the mean income of people for which the loan has been approved vs the mean income of people for which the loan has not been approved."
   ]
  },
  {
   "cell_type": "code",
   "execution_count": 107,
   "id": "da604cbf",
   "metadata": {},
   "outputs": [
    {
     "data": {
      "text/plain": [
       "5403.459283387622"
      ]
     },
     "execution_count": 107,
     "metadata": {},
     "output_type": "execute_result"
    }
   ],
   "source": [
    "#since mean applicant income is not giving us a rough idea of distribution we will divide applicant income into groups =['low','average','high','low']\n",
    "train_data['ApplicantIncome'].describe()\n",
    "\n",
    "avg =  train_data['ApplicantIncome'].sum()/614\n",
    "avg"
   ]
  },
  {
   "cell_type": "code",
   "execution_count": 108,
   "id": "61ced9c4",
   "metadata": {},
   "outputs": [
    {
     "data": {
      "image/png": "[encoded data removed]",
      "text/plain": [
       "<Figure size 432x288 with 1 Axes>"
      ]
     },
     "metadata": {
      "needs_background": "light"
     },
     "output_type": "display_data"
    }
   ],
   "source": [
    "bins=[0,2500,4000,6000,81000] \n",
    "group=['Low','Average','High', 'Very high'] \n",
    "train_data['Income_bin']=pd.cut(train_data['ApplicantIncome'],bins,labels=group)\n",
    "Income_bin=pd.crosstab(train_data['Income_bin'],train_data['Loan_Status'])\n",
    "Income_bin.div(Income_bin.sum(1).astype(float), axis=0).plot(kind=\"bar\", stacked=True , color = ['green','red']) \n",
    "plt.xlabel('ApplicantIncome') \n",
    "P = plt.ylabel('Percentage')"
   ]
  },
  {
   "cell_type": "markdown",
   "id": "dc14923e",
   "metadata": {},
   "source": [
    "Analysing bins for the applicant income variable based on the values in it and the corresponding loan status for each bin.It can be inferred that Applicant income does not affect the chances of loan approval"
   ]
  },
  {
   "cell_type": "code",
   "execution_count": 109,
   "id": "ca125c35",
   "metadata": {},
   "outputs": [
    {
     "data": {
      "text/plain": [
       "count      614.000000\n",
       "mean      1621.245798\n",
       "std       2926.248369\n",
       "min          0.000000\n",
       "25%          0.000000\n",
       "50%       1188.500000\n",
       "75%       2297.250000\n",
       "max      41667.000000\n",
       "Name: CoapplicantIncome, dtype: float64"
      ]
     },
     "execution_count": 109,
     "metadata": {},
     "output_type": "execute_result"
    }
   ],
   "source": [
    "#making Bins for 'CoapplicantIncome'\n",
    "train_data['CoapplicantIncome'].describe()"
   ]
  },
  {
   "cell_type": "code",
   "execution_count": 110,
   "id": "0a98edae",
   "metadata": {},
   "outputs": [
    {
     "data": {
      "text/plain": [
       "1621.2457980271008"
      ]
     },
     "execution_count": 110,
     "metadata": {},
     "output_type": "execute_result"
    }
   ],
   "source": [
    "avg = train_data['CoapplicantIncome'].sum()/614\n",
    "avg"
   ]
  },
  {
   "cell_type": "code",
   "execution_count": 113,
   "id": "1827743e",
   "metadata": {},
   "outputs": [
    {
     "data": {
      "image/png": "[encoded data removed]",
      "text/plain": [
       "<Figure size 432x288 with 1 Axes>"
      ]
     },
     "metadata": {
      "needs_background": "light"
     },
     "output_type": "display_data"
    }
   ],
   "source": [
    "bins=[0,1000,3000,42000] \n",
    "group=['Low','Average','High']\n",
    "train_data['Coapplicant_Income_bin']=pd.cut(train_data['CoapplicantIncome'],bins,labels=group)\n",
    "Coapplicant_Income_bin=pd.crosstab(train_data['Coapplicant_Income_bin'],train_data['Loan_Status']) \n",
    "Coapplicant_Income_bin.div(Coapplicant_Income_bin.sum(1).astype(float), axis=0).plot(kind=\"bar\", stacked=True , color = ['blue','red']) \n",
    "plt.xlabel('CoapplicantIncome')\n",
    "P = plt.ylabel('Percentage')"
   ]
  },
  {
   "cell_type": "markdown",
   "id": "fcf7b965",
   "metadata": {},
   "source": [
    "coapplicant’s income is less the chances of loan approval are high"
   ]
  },
  {
   "cell_type": "code",
   "execution_count": 114,
   "id": "0d72e38f",
   "metadata": {},
   "outputs": [
    {
     "data": {
      "text/plain": [
       "count      614.000000\n",
       "mean      7024.705081\n",
       "std       6458.663872\n",
       "min       1442.000000\n",
       "25%       4166.000000\n",
       "50%       5416.500000\n",
       "75%       7521.750000\n",
       "max      81000.000000\n",
       "Name: Total_Income, dtype: float64"
      ]
     },
     "execution_count": 114,
     "metadata": {},
     "output_type": "execute_result"
    }
   ],
   "source": [
    "#Forming A new variable Total Income = ApplicantIncome + CoapplicantIncome\n",
    "train_data['Total_Income']=train_data['ApplicantIncome']+train_data['CoapplicantIncome']\n",
    "train_data['Total_Income'].describe()"
   ]
  },
  {
   "cell_type": "code",
   "execution_count": 117,
   "id": "d8546244",
   "metadata": {},
   "outputs": [
    {
     "data": {
      "image/png": "[encoded data removed]",
      "text/plain": [
       "<Figure size 432x288 with 1 Axes>"
      ]
     },
     "metadata": {
      "needs_background": "light"
     },
     "output_type": "display_data"
    }
   ],
   "source": [
    "#making bins of TotalIncome\n",
    "bins=[0,2500,4000,6000,81000] \n",
    "group=['Low','Average','High', 'Very high']\n",
    "train_data['Total_Income_bin']=pd.cut(train_data['Total_Income'],bins,labels=group)\n",
    "Total_Income_bin=pd.crosstab(train_data['Total_Income_bin'],train_data['Loan_Status'])\n",
    "Total_Income_bin.div(Total_Income_bin.sum(1).astype(float), axis=0).plot(kind=\"bar\", stacked=True , color = ['red','blue'])\n",
    "plt.xlabel('Total_Income') \n",
    "P = plt.ylabel('Percentage')"
   ]
  },
  {
   "cell_type": "markdown",
   "id": "e9a37678",
   "metadata": {},
   "source": [
    "Proportion of loans getting approved for applicants having low Total_Income is very less as compared to that of applicants with Average, High and Very High Income."
   ]
  },
  {
   "cell_type": "code",
   "execution_count": 118,
   "id": "a9a7716a",
   "metadata": {},
   "outputs": [
    {
     "data": {
      "text/html": [
       "<div>\n",
       "<style scoped>\n",
       "    .dataframe tbody tr th:only-of-type {\n",
       "        vertical-align: middle;\n",
       "    }\n",
       "\n",
       "    .dataframe tbody tr th {\n",
       "        vertical-align: top;\n",
       "    }\n",
       "\n",
       "    .dataframe thead th {\n",
       "        text-align: right;\n",
       "    }\n",
       "</style>\n",
       "<table border=\"1\" class=\"dataframe\">\n",
       "  <thead>\n",
       "    <tr style=\"text-align: right;\">\n",
       "      <th></th>\n",
       "      <th>Loan_ID</th>\n",
       "      <th>Gender</th>\n",
       "      <th>Married</th>\n",
       "      <th>Dependents</th>\n",
       "      <th>Education</th>\n",
       "      <th>Self_Employed</th>\n",
       "      <th>ApplicantIncome</th>\n",
       "      <th>CoapplicantIncome</th>\n",
       "      <th>LoanAmount</th>\n",
       "      <th>Loan_Amount_Term</th>\n",
       "      <th>Credit_History</th>\n",
       "      <th>Property_Area</th>\n",
       "      <th>Loan_Status</th>\n",
       "      <th>Income_bin</th>\n",
       "      <th>Coapplicant_Income_bin</th>\n",
       "      <th>Total_Income</th>\n",
       "      <th>Total_Income_bin</th>\n",
       "    </tr>\n",
       "  </thead>\n",
       "  <tbody>\n",
       "    <tr>\n",
       "      <th>0</th>\n",
       "      <td>LP001002</td>\n",
       "      <td>Male</td>\n",
       "      <td>No</td>\n",
       "      <td>0</td>\n",
       "      <td>Graduate</td>\n",
       "      <td>No</td>\n",
       "      <td>5849</td>\n",
       "      <td>0.0</td>\n",
       "      <td>NaN</td>\n",
       "      <td>360.0</td>\n",
       "      <td>1.0</td>\n",
       "      <td>Urban</td>\n",
       "      <td>Y</td>\n",
       "      <td>High</td>\n",
       "      <td>NaN</td>\n",
       "      <td>5849.0</td>\n",
       "      <td>High</td>\n",
       "    </tr>\n",
       "    <tr>\n",
       "      <th>1</th>\n",
       "      <td>LP001003</td>\n",
       "      <td>Male</td>\n",
       "      <td>Yes</td>\n",
       "      <td>1</td>\n",
       "      <td>Graduate</td>\n",
       "      <td>No</td>\n",
       "      <td>4583</td>\n",
       "      <td>1508.0</td>\n",
       "      <td>128.0</td>\n",
       "      <td>360.0</td>\n",
       "      <td>1.0</td>\n",
       "      <td>Rural</td>\n",
       "      <td>N</td>\n",
       "      <td>High</td>\n",
       "      <td>Average</td>\n",
       "      <td>6091.0</td>\n",
       "      <td>Very high</td>\n",
       "    </tr>\n",
       "    <tr>\n",
       "      <th>2</th>\n",
       "      <td>LP001005</td>\n",
       "      <td>Male</td>\n",
       "      <td>Yes</td>\n",
       "      <td>0</td>\n",
       "      <td>Graduate</td>\n",
       "      <td>Yes</td>\n",
       "      <td>3000</td>\n",
       "      <td>0.0</td>\n",
       "      <td>66.0</td>\n",
       "      <td>360.0</td>\n",
       "      <td>1.0</td>\n",
       "      <td>Urban</td>\n",
       "      <td>Y</td>\n",
       "      <td>Average</td>\n",
       "      <td>NaN</td>\n",
       "      <td>3000.0</td>\n",
       "      <td>Average</td>\n",
       "    </tr>\n",
       "    <tr>\n",
       "      <th>3</th>\n",
       "      <td>LP001006</td>\n",
       "      <td>Male</td>\n",
       "      <td>Yes</td>\n",
       "      <td>0</td>\n",
       "      <td>Not Graduate</td>\n",
       "      <td>No</td>\n",
       "      <td>2583</td>\n",
       "      <td>2358.0</td>\n",
       "      <td>120.0</td>\n",
       "      <td>360.0</td>\n",
       "      <td>1.0</td>\n",
       "      <td>Urban</td>\n",
       "      <td>Y</td>\n",
       "      <td>Average</td>\n",
       "      <td>Average</td>\n",
       "      <td>4941.0</td>\n",
       "      <td>High</td>\n",
       "    </tr>\n",
       "    <tr>\n",
       "      <th>4</th>\n",
       "      <td>LP001008</td>\n",
       "      <td>Male</td>\n",
       "      <td>No</td>\n",
       "      <td>0</td>\n",
       "      <td>Graduate</td>\n",
       "      <td>No</td>\n",
       "      <td>6000</td>\n",
       "      <td>0.0</td>\n",
       "      <td>141.0</td>\n",
       "      <td>360.0</td>\n",
       "      <td>1.0</td>\n",
       "      <td>Urban</td>\n",
       "      <td>Y</td>\n",
       "      <td>High</td>\n",
       "      <td>NaN</td>\n",
       "      <td>6000.0</td>\n",
       "      <td>High</td>\n",
       "    </tr>\n",
       "    <tr>\n",
       "      <th>5</th>\n",
       "      <td>LP001011</td>\n",
       "      <td>Male</td>\n",
       "      <td>Yes</td>\n",
       "      <td>2</td>\n",
       "      <td>Graduate</td>\n",
       "      <td>Yes</td>\n",
       "      <td>5417</td>\n",
       "      <td>4196.0</td>\n",
       "      <td>267.0</td>\n",
       "      <td>360.0</td>\n",
       "      <td>1.0</td>\n",
       "      <td>Urban</td>\n",
       "      <td>Y</td>\n",
       "      <td>High</td>\n",
       "      <td>High</td>\n",
       "      <td>9613.0</td>\n",
       "      <td>Very high</td>\n",
       "    </tr>\n",
       "    <tr>\n",
       "      <th>6</th>\n",
       "      <td>LP001013</td>\n",
       "      <td>Male</td>\n",
       "      <td>Yes</td>\n",
       "      <td>0</td>\n",
       "      <td>Not Graduate</td>\n",
       "      <td>No</td>\n",
       "      <td>2333</td>\n",
       "      <td>1516.0</td>\n",
       "      <td>95.0</td>\n",
       "      <td>360.0</td>\n",
       "      <td>1.0</td>\n",
       "      <td>Urban</td>\n",
       "      <td>Y</td>\n",
       "      <td>Low</td>\n",
       "      <td>Average</td>\n",
       "      <td>3849.0</td>\n",
       "      <td>Average</td>\n",
       "    </tr>\n",
       "    <tr>\n",
       "      <th>7</th>\n",
       "      <td>LP001014</td>\n",
       "      <td>Male</td>\n",
       "      <td>Yes</td>\n",
       "      <td>3+</td>\n",
       "      <td>Graduate</td>\n",
       "      <td>No</td>\n",
       "      <td>3036</td>\n",
       "      <td>2504.0</td>\n",
       "      <td>158.0</td>\n",
       "      <td>360.0</td>\n",
       "      <td>0.0</td>\n",
       "      <td>Semiurban</td>\n",
       "      <td>N</td>\n",
       "      <td>Average</td>\n",
       "      <td>Average</td>\n",
       "      <td>5540.0</td>\n",
       "      <td>High</td>\n",
       "    </tr>\n",
       "    <tr>\n",
       "      <th>8</th>\n",
       "      <td>LP001018</td>\n",
       "      <td>Male</td>\n",
       "      <td>Yes</td>\n",
       "      <td>2</td>\n",
       "      <td>Graduate</td>\n",
       "      <td>No</td>\n",
       "      <td>4006</td>\n",
       "      <td>1526.0</td>\n",
       "      <td>168.0</td>\n",
       "      <td>360.0</td>\n",
       "      <td>1.0</td>\n",
       "      <td>Urban</td>\n",
       "      <td>Y</td>\n",
       "      <td>High</td>\n",
       "      <td>Average</td>\n",
       "      <td>5532.0</td>\n",
       "      <td>High</td>\n",
       "    </tr>\n",
       "    <tr>\n",
       "      <th>9</th>\n",
       "      <td>LP001020</td>\n",
       "      <td>Male</td>\n",
       "      <td>Yes</td>\n",
       "      <td>1</td>\n",
       "      <td>Graduate</td>\n",
       "      <td>No</td>\n",
       "      <td>12841</td>\n",
       "      <td>10968.0</td>\n",
       "      <td>349.0</td>\n",
       "      <td>360.0</td>\n",
       "      <td>1.0</td>\n",
       "      <td>Semiurban</td>\n",
       "      <td>N</td>\n",
       "      <td>Very high</td>\n",
       "      <td>High</td>\n",
       "      <td>23809.0</td>\n",
       "      <td>Very high</td>\n",
       "    </tr>\n",
       "    <tr>\n",
       "      <th>10</th>\n",
       "      <td>LP001024</td>\n",
       "      <td>Male</td>\n",
       "      <td>Yes</td>\n",
       "      <td>2</td>\n",
       "      <td>Graduate</td>\n",
       "      <td>No</td>\n",
       "      <td>3200</td>\n",
       "      <td>700.0</td>\n",
       "      <td>70.0</td>\n",
       "      <td>360.0</td>\n",
       "      <td>1.0</td>\n",
       "      <td>Urban</td>\n",
       "      <td>Y</td>\n",
       "      <td>Average</td>\n",
       "      <td>Low</td>\n",
       "      <td>3900.0</td>\n",
       "      <td>Average</td>\n",
       "    </tr>\n",
       "    <tr>\n",
       "      <th>11</th>\n",
       "      <td>LP001027</td>\n",
       "      <td>Male</td>\n",
       "      <td>Yes</td>\n",
       "      <td>2</td>\n",
       "      <td>Graduate</td>\n",
       "      <td>NaN</td>\n",
       "      <td>2500</td>\n",
       "      <td>1840.0</td>\n",
       "      <td>109.0</td>\n",
       "      <td>360.0</td>\n",
       "      <td>1.0</td>\n",
       "      <td>Urban</td>\n",
       "      <td>Y</td>\n",
       "      <td>Low</td>\n",
       "      <td>Average</td>\n",
       "      <td>4340.0</td>\n",
       "      <td>High</td>\n",
       "    </tr>\n",
       "    <tr>\n",
       "      <th>12</th>\n",
       "      <td>LP001028</td>\n",
       "      <td>Male</td>\n",
       "      <td>Yes</td>\n",
       "      <td>2</td>\n",
       "      <td>Graduate</td>\n",
       "      <td>No</td>\n",
       "      <td>3073</td>\n",
       "      <td>8106.0</td>\n",
       "      <td>200.0</td>\n",
       "      <td>360.0</td>\n",
       "      <td>1.0</td>\n",
       "      <td>Urban</td>\n",
       "      <td>Y</td>\n",
       "      <td>Average</td>\n",
       "      <td>High</td>\n",
       "      <td>11179.0</td>\n",
       "      <td>Very high</td>\n",
       "    </tr>\n",
       "    <tr>\n",
       "      <th>13</th>\n",
       "      <td>LP001029</td>\n",
       "      <td>Male</td>\n",
       "      <td>No</td>\n",
       "      <td>0</td>\n",
       "      <td>Graduate</td>\n",
       "      <td>No</td>\n",
       "      <td>1853</td>\n",
       "      <td>2840.0</td>\n",
       "      <td>114.0</td>\n",
       "      <td>360.0</td>\n",
       "      <td>1.0</td>\n",
       "      <td>Rural</td>\n",
       "      <td>N</td>\n",
       "      <td>Low</td>\n",
       "      <td>Average</td>\n",
       "      <td>4693.0</td>\n",
       "      <td>High</td>\n",
       "    </tr>\n",
       "    <tr>\n",
       "      <th>14</th>\n",
       "      <td>LP001030</td>\n",
       "      <td>Male</td>\n",
       "      <td>Yes</td>\n",
       "      <td>2</td>\n",
       "      <td>Graduate</td>\n",
       "      <td>No</td>\n",
       "      <td>1299</td>\n",
       "      <td>1086.0</td>\n",
       "      <td>17.0</td>\n",
       "      <td>120.0</td>\n",
       "      <td>1.0</td>\n",
       "      <td>Urban</td>\n",
       "      <td>Y</td>\n",
       "      <td>Low</td>\n",
       "      <td>Average</td>\n",
       "      <td>2385.0</td>\n",
       "      <td>Low</td>\n",
       "    </tr>\n",
       "    <tr>\n",
       "      <th>15</th>\n",
       "      <td>LP001032</td>\n",
       "      <td>Male</td>\n",
       "      <td>No</td>\n",
       "      <td>0</td>\n",
       "      <td>Graduate</td>\n",
       "      <td>No</td>\n",
       "      <td>4950</td>\n",
       "      <td>0.0</td>\n",
       "      <td>125.0</td>\n",
       "      <td>360.0</td>\n",
       "      <td>1.0</td>\n",
       "      <td>Urban</td>\n",
       "      <td>Y</td>\n",
       "      <td>High</td>\n",
       "      <td>NaN</td>\n",
       "      <td>4950.0</td>\n",
       "      <td>High</td>\n",
       "    </tr>\n",
       "    <tr>\n",
       "      <th>16</th>\n",
       "      <td>LP001034</td>\n",
       "      <td>Male</td>\n",
       "      <td>No</td>\n",
       "      <td>1</td>\n",
       "      <td>Not Graduate</td>\n",
       "      <td>No</td>\n",
       "      <td>3596</td>\n",
       "      <td>0.0</td>\n",
       "      <td>100.0</td>\n",
       "      <td>240.0</td>\n",
       "      <td>NaN</td>\n",
       "      <td>Urban</td>\n",
       "      <td>Y</td>\n",
       "      <td>Average</td>\n",
       "      <td>NaN</td>\n",
       "      <td>3596.0</td>\n",
       "      <td>Average</td>\n",
       "    </tr>\n",
       "    <tr>\n",
       "      <th>17</th>\n",
       "      <td>LP001036</td>\n",
       "      <td>Female</td>\n",
       "      <td>No</td>\n",
       "      <td>0</td>\n",
       "      <td>Graduate</td>\n",
       "      <td>No</td>\n",
       "      <td>3510</td>\n",
       "      <td>0.0</td>\n",
       "      <td>76.0</td>\n",
       "      <td>360.0</td>\n",
       "      <td>0.0</td>\n",
       "      <td>Urban</td>\n",
       "      <td>N</td>\n",
       "      <td>Average</td>\n",
       "      <td>NaN</td>\n",
       "      <td>3510.0</td>\n",
       "      <td>Average</td>\n",
       "    </tr>\n",
       "    <tr>\n",
       "      <th>18</th>\n",
       "      <td>LP001038</td>\n",
       "      <td>Male</td>\n",
       "      <td>Yes</td>\n",
       "      <td>0</td>\n",
       "      <td>Not Graduate</td>\n",
       "      <td>No</td>\n",
       "      <td>4887</td>\n",
       "      <td>0.0</td>\n",
       "      <td>133.0</td>\n",
       "      <td>360.0</td>\n",
       "      <td>1.0</td>\n",
       "      <td>Rural</td>\n",
       "      <td>N</td>\n",
       "      <td>High</td>\n",
       "      <td>NaN</td>\n",
       "      <td>4887.0</td>\n",
       "      <td>High</td>\n",
       "    </tr>\n",
       "    <tr>\n",
       "      <th>19</th>\n",
       "      <td>LP001041</td>\n",
       "      <td>Male</td>\n",
       "      <td>Yes</td>\n",
       "      <td>0</td>\n",
       "      <td>Graduate</td>\n",
       "      <td>NaN</td>\n",
       "      <td>2600</td>\n",
       "      <td>3500.0</td>\n",
       "      <td>115.0</td>\n",
       "      <td>NaN</td>\n",
       "      <td>1.0</td>\n",
       "      <td>Urban</td>\n",
       "      <td>Y</td>\n",
       "      <td>Average</td>\n",
       "      <td>High</td>\n",
       "      <td>6100.0</td>\n",
       "      <td>Very high</td>\n",
       "    </tr>\n",
       "    <tr>\n",
       "      <th>20</th>\n",
       "      <td>LP001043</td>\n",
       "      <td>Male</td>\n",
       "      <td>Yes</td>\n",
       "      <td>0</td>\n",
       "      <td>Not Graduate</td>\n",
       "      <td>No</td>\n",
       "      <td>7660</td>\n",
       "      <td>0.0</td>\n",
       "      <td>104.0</td>\n",
       "      <td>360.0</td>\n",
       "      <td>0.0</td>\n",
       "      <td>Urban</td>\n",
       "      <td>N</td>\n",
       "      <td>Very high</td>\n",
       "      <td>NaN</td>\n",
       "      <td>7660.0</td>\n",
       "      <td>Very high</td>\n",
       "    </tr>\n",
       "    <tr>\n",
       "      <th>21</th>\n",
       "      <td>LP001046</td>\n",
       "      <td>Male</td>\n",
       "      <td>Yes</td>\n",
       "      <td>1</td>\n",
       "      <td>Graduate</td>\n",
       "      <td>No</td>\n",
       "      <td>5955</td>\n",
       "      <td>5625.0</td>\n",
       "      <td>315.0</td>\n",
       "      <td>360.0</td>\n",
       "      <td>1.0</td>\n",
       "      <td>Urban</td>\n",
       "      <td>Y</td>\n",
       "      <td>High</td>\n",
       "      <td>High</td>\n",
       "      <td>11580.0</td>\n",
       "      <td>Very high</td>\n",
       "    </tr>\n",
       "    <tr>\n",
       "      <th>22</th>\n",
       "      <td>LP001047</td>\n",
       "      <td>Male</td>\n",
       "      <td>Yes</td>\n",
       "      <td>0</td>\n",
       "      <td>Not Graduate</td>\n",
       "      <td>No</td>\n",
       "      <td>2600</td>\n",
       "      <td>1911.0</td>\n",
       "      <td>116.0</td>\n",
       "      <td>360.0</td>\n",
       "      <td>0.0</td>\n",
       "      <td>Semiurban</td>\n",
       "      <td>N</td>\n",
       "      <td>Average</td>\n",
       "      <td>Average</td>\n",
       "      <td>4511.0</td>\n",
       "      <td>High</td>\n",
       "    </tr>\n",
       "    <tr>\n",
       "      <th>23</th>\n",
       "      <td>LP001050</td>\n",
       "      <td>NaN</td>\n",
       "      <td>Yes</td>\n",
       "      <td>2</td>\n",
       "      <td>Not Graduate</td>\n",
       "      <td>No</td>\n",
       "      <td>3365</td>\n",
       "      <td>1917.0</td>\n",
       "      <td>112.0</td>\n",
       "      <td>360.0</td>\n",
       "      <td>0.0</td>\n",
       "      <td>Rural</td>\n",
       "      <td>N</td>\n",
       "      <td>Average</td>\n",
       "      <td>Average</td>\n",
       "      <td>5282.0</td>\n",
       "      <td>High</td>\n",
       "    </tr>\n",
       "    <tr>\n",
       "      <th>24</th>\n",
       "      <td>LP001052</td>\n",
       "      <td>Male</td>\n",
       "      <td>Yes</td>\n",
       "      <td>1</td>\n",
       "      <td>Graduate</td>\n",
       "      <td>NaN</td>\n",
       "      <td>3717</td>\n",
       "      <td>2925.0</td>\n",
       "      <td>151.0</td>\n",
       "      <td>360.0</td>\n",
       "      <td>NaN</td>\n",
       "      <td>Semiurban</td>\n",
       "      <td>N</td>\n",
       "      <td>Average</td>\n",
       "      <td>Average</td>\n",
       "      <td>6642.0</td>\n",
       "      <td>Very high</td>\n",
       "    </tr>\n",
       "    <tr>\n",
       "      <th>25</th>\n",
       "      <td>LP001066</td>\n",
       "      <td>Male</td>\n",
       "      <td>Yes</td>\n",
       "      <td>0</td>\n",
       "      <td>Graduate</td>\n",
       "      <td>Yes</td>\n",
       "      <td>9560</td>\n",
       "      <td>0.0</td>\n",
       "      <td>191.0</td>\n",
       "      <td>360.0</td>\n",
       "      <td>1.0</td>\n",
       "      <td>Semiurban</td>\n",
       "      <td>Y</td>\n",
       "      <td>Very high</td>\n",
       "      <td>NaN</td>\n",
       "      <td>9560.0</td>\n",
       "      <td>Very high</td>\n",
       "    </tr>\n",
       "    <tr>\n",
       "      <th>26</th>\n",
       "      <td>LP001068</td>\n",
       "      <td>Male</td>\n",
       "      <td>Yes</td>\n",
       "      <td>0</td>\n",
       "      <td>Graduate</td>\n",
       "      <td>No</td>\n",
       "      <td>2799</td>\n",
       "      <td>2253.0</td>\n",
       "      <td>122.0</td>\n",
       "      <td>360.0</td>\n",
       "      <td>1.0</td>\n",
       "      <td>Semiurban</td>\n",
       "      <td>Y</td>\n",
       "      <td>Average</td>\n",
       "      <td>Average</td>\n",
       "      <td>5052.0</td>\n",
       "      <td>High</td>\n",
       "    </tr>\n",
       "    <tr>\n",
       "      <th>27</th>\n",
       "      <td>LP001073</td>\n",
       "      <td>Male</td>\n",
       "      <td>Yes</td>\n",
       "      <td>2</td>\n",
       "      <td>Not Graduate</td>\n",
       "      <td>No</td>\n",
       "      <td>4226</td>\n",
       "      <td>1040.0</td>\n",
       "      <td>110.0</td>\n",
       "      <td>360.0</td>\n",
       "      <td>1.0</td>\n",
       "      <td>Urban</td>\n",
       "      <td>Y</td>\n",
       "      <td>High</td>\n",
       "      <td>Average</td>\n",
       "      <td>5266.0</td>\n",
       "      <td>High</td>\n",
       "    </tr>\n",
       "    <tr>\n",
       "      <th>28</th>\n",
       "      <td>LP001086</td>\n",
       "      <td>Male</td>\n",
       "      <td>No</td>\n",
       "      <td>0</td>\n",
       "      <td>Not Graduate</td>\n",
       "      <td>No</td>\n",
       "      <td>1442</td>\n",
       "      <td>0.0</td>\n",
       "      <td>35.0</td>\n",
       "      <td>360.0</td>\n",
       "      <td>1.0</td>\n",
       "      <td>Urban</td>\n",
       "      <td>N</td>\n",
       "      <td>Low</td>\n",
       "      <td>NaN</td>\n",
       "      <td>1442.0</td>\n",
       "      <td>Low</td>\n",
       "    </tr>\n",
       "    <tr>\n",
       "      <th>29</th>\n",
       "      <td>LP001087</td>\n",
       "      <td>Female</td>\n",
       "      <td>No</td>\n",
       "      <td>2</td>\n",
       "      <td>Graduate</td>\n",
       "      <td>NaN</td>\n",
       "      <td>3750</td>\n",
       "      <td>2083.0</td>\n",
       "      <td>120.0</td>\n",
       "      <td>360.0</td>\n",
       "      <td>1.0</td>\n",
       "      <td>Semiurban</td>\n",
       "      <td>Y</td>\n",
       "      <td>Average</td>\n",
       "      <td>Average</td>\n",
       "      <td>5833.0</td>\n",
       "      <td>High</td>\n",
       "    </tr>\n",
       "  </tbody>\n",
       "</table>\n",
       "</div>"
      ],
      "text/plain": [
       "     Loan_ID  Gender Married Dependents     Education Self_Employed  \\\n",
       "0   LP001002    Male      No          0      Graduate            No   \n",
       "1   LP001003    Male     Yes          1      Graduate            No   \n",
       "2   LP001005    Male     Yes          0      Graduate           Yes   \n",
       "3   LP001006    Male     Yes          0  Not Graduate            No   \n",
       "4   LP001008    Male      No          0      Graduate            No   \n",
       "5   LP001011    Male     Yes          2      Graduate           Yes   \n",
       "6   LP001013    Male     Yes          0  Not Graduate            No   \n",
       "7   LP001014    Male     Yes         3+      Graduate            No   \n",
       "8   LP001018    Male     Yes          2      Graduate            No   \n",
       "9   LP001020    Male     Yes          1      Graduate            No   \n",
       "10  LP001024    Male     Yes          2      Graduate            No   \n",
       "11  LP001027    Male     Yes          2      Graduate           NaN   \n",
       "12  LP001028    Male     Yes          2      Graduate            No   \n",
       "13  LP001029    Male      No          0      Graduate            No   \n",
       "14  LP001030    Male     Yes          2      Graduate            No   \n",
       "15  LP001032    Male      No          0      Graduate            No   \n",
       "16  LP001034    Male      No          1  Not Graduate            No   \n",
       "17  LP001036  Female      No          0      Graduate            No   \n",
       "18  LP001038    Male     Yes          0  Not Graduate            No   \n",
       "19  LP001041    Male     Yes          0      Graduate           NaN   \n",
       "20  LP001043    Male     Yes          0  Not Graduate            No   \n",
       "21  LP001046    Male     Yes          1      Graduate            No   \n",
       "22  LP001047    Male     Yes          0  Not Graduate            No   \n",
       "23  LP001050     NaN     Yes          2  Not Graduate            No   \n",
       "24  LP001052    Male     Yes          1      Graduate           NaN   \n",
       "25  LP001066    Male     Yes          0      Graduate           Yes   \n",
       "26  LP001068    Male     Yes          0      Graduate            No   \n",
       "27  LP001073    Male     Yes          2  Not Graduate            No   \n",
       "28  LP001086    Male      No          0  Not Graduate            No   \n",
       "29  LP001087  Female      No          2      Graduate           NaN   \n",
       "\n",
       "    ApplicantIncome  CoapplicantIncome  LoanAmount  Loan_Amount_Term  \\\n",
       "0              5849                0.0         NaN             360.0   \n",
       "1              4583             1508.0       128.0             360.0   \n",
       "2              3000                0.0        66.0             360.0   \n",
       "3              2583             2358.0       120.0             360.0   \n",
       "4              6000                0.0       141.0             360.0   \n",
       "5              5417             4196.0       267.0             360.0   \n",
       "6              2333             1516.0        95.0             360.0   \n",
       "7              3036             2504.0       158.0             360.0   \n",
       "8              4006             1526.0       168.0             360.0   \n",
       "9             12841            10968.0       349.0             360.0   \n",
       "10             3200              700.0        70.0             360.0   \n",
       "11             2500             1840.0       109.0             360.0   \n",
       "12             3073             8106.0       200.0             360.0   \n",
       "13             1853             2840.0       114.0             360.0   \n",
       "14             1299             1086.0        17.0             120.0   \n",
       "15             4950                0.0       125.0             360.0   \n",
       "16             3596                0.0       100.0             240.0   \n",
       "17             3510                0.0        76.0             360.0   \n",
       "18             4887                0.0       133.0             360.0   \n",
       "19             2600             3500.0       115.0               NaN   \n",
       "20             7660                0.0       104.0             360.0   \n",
       "21             5955             5625.0       315.0             360.0   \n",
       "22             2600             1911.0       116.0             360.0   \n",
       "23             3365             1917.0       112.0             360.0   \n",
       "24             3717             2925.0       151.0             360.0   \n",
       "25             9560                0.0       191.0             360.0   \n",
       "26             2799             2253.0       122.0             360.0   \n",
       "27             4226             1040.0       110.0             360.0   \n",
       "28             1442                0.0        35.0             360.0   \n",
       "29             3750             2083.0       120.0             360.0   \n",
       "\n",
       "    Credit_History Property_Area Loan_Status Income_bin  \\\n",
       "0              1.0         Urban           Y       High   \n",
       "1              1.0         Rural           N       High   \n",
       "2              1.0         Urban           Y    Average   \n",
       "3              1.0         Urban           Y    Average   \n",
       "4              1.0         Urban           Y       High   \n",
       "5              1.0         Urban           Y       High   \n",
       "6              1.0         Urban           Y        Low   \n",
       "7              0.0     Semiurban           N    Average   \n",
       "8              1.0         Urban           Y       High   \n",
       "9              1.0     Semiurban           N  Very high   \n",
       "10             1.0         Urban           Y    Average   \n",
       "11             1.0         Urban           Y        Low   \n",
       "12             1.0         Urban           Y    Average   \n",
       "13             1.0         Rural           N        Low   \n",
       "14             1.0         Urban           Y        Low   \n",
       "15             1.0         Urban           Y       High   \n",
       "16             NaN         Urban           Y    Average   \n",
       "17             0.0         Urban           N    Average   \n",
       "18             1.0         Rural           N       High   \n",
       "19             1.0         Urban           Y    Average   \n",
       "20             0.0         Urban           N  Very high   \n",
       "21             1.0         Urban           Y       High   \n",
       "22             0.0     Semiurban           N    Average   \n",
       "23             0.0         Rural           N    Average   \n",
       "24             NaN     Semiurban           N    Average   \n",
       "25             1.0     Semiurban           Y  Very high   \n",
       "26             1.0     Semiurban           Y    Average   \n",
       "27             1.0         Urban           Y       High   \n",
       "28             1.0         Urban           N        Low   \n",
       "29             1.0     Semiurban           Y    Average   \n",
       "\n",
       "   Coapplicant_Income_bin  Total_Income Total_Income_bin  \n",
       "0                     NaN        5849.0             High  \n",
       "1                 Average        6091.0        Very high  \n",
       "2                     NaN        3000.0          Average  \n",
       "3                 Average        4941.0             High  \n",
       "4                     NaN        6000.0             High  \n",
       "5                    High        9613.0        Very high  \n",
       "6                 Average        3849.0          Average  \n",
       "7                 Average        5540.0             High  \n",
       "8                 Average        5532.0             High  \n",
       "9                    High       23809.0        Very high  \n",
       "10                    Low        3900.0          Average  \n",
       "11                Average        4340.0             High  \n",
       "12                   High       11179.0        Very high  \n",
       "13                Average        4693.0             High  \n",
       "14                Average        2385.0              Low  \n",
       "15                    NaN        4950.0             High  \n",
       "16                    NaN        3596.0          Average  \n",
       "17                    NaN        3510.0          Average  \n",
       "18                    NaN        4887.0             High  \n",
       "19                   High        6100.0        Very high  \n",
       "20                    NaN        7660.0        Very high  \n",
       "21                   High       11580.0        Very high  \n",
       "22                Average        4511.0             High  \n",
       "23                Average        5282.0             High  \n",
       "24                Average        6642.0        Very high  \n",
       "25                    NaN        9560.0        Very high  \n",
       "26                Average        5052.0             High  \n",
       "27                Average        5266.0             High  \n",
       "28                    NaN        1442.0              Low  \n",
       "29                Average        5833.0             High  "
      ]
     },
     "execution_count": 118,
     "metadata": {},
     "output_type": "execute_result"
    }
   ],
   "source": [
    "train_data.head(30)"
   ]
  },
  {
   "cell_type": "code",
   "execution_count": 120,
   "id": "cfc3477b",
   "metadata": {},
   "outputs": [],
   "source": [
    "# drop the bins, change the 3+ in dependents variable to 3, convert the target variable’s categories into 0 and 1 \n",
    "\n",
    "train_data=train_data.drop(['Income_bin', 'Coapplicant_Income_bin',  'Total_Income_bin', 'Total_Income'], axis=1)\n",
    "train_data['Dependents'].replace('3+', 3,inplace=True) \n",
    "test_data['Dependents'].replace('3+', 3,inplace=True)\n",
    "train_data['Loan_Status'].replace('N', 0,inplace=True)\n",
    "train_data['Loan_Status'].replace('Y', 1,inplace=True)"
   ]
  },
  {
   "cell_type": "code",
   "execution_count": 121,
   "id": "d3cb655c",
   "metadata": {},
   "outputs": [
    {
     "data": {
      "text/html": [
       "<div>\n",
       "<style scoped>\n",
       "    .dataframe tbody tr th:only-of-type {\n",
       "        vertical-align: middle;\n",
       "    }\n",
       "\n",
       "    .dataframe tbody tr th {\n",
       "        vertical-align: top;\n",
       "    }\n",
       "\n",
       "    .dataframe thead th {\n",
       "        text-align: right;\n",
       "    }\n",
       "</style>\n",
       "<table border=\"1\" class=\"dataframe\">\n",
       "  <thead>\n",
       "    <tr style=\"text-align: right;\">\n",
       "      <th></th>\n",
       "      <th>Loan_ID</th>\n",
       "      <th>Gender</th>\n",
       "      <th>Married</th>\n",
       "      <th>Dependents</th>\n",
       "      <th>Education</th>\n",
       "      <th>Self_Employed</th>\n",
       "      <th>ApplicantIncome</th>\n",
       "      <th>CoapplicantIncome</th>\n",
       "      <th>LoanAmount</th>\n",
       "      <th>Loan_Amount_Term</th>\n",
       "      <th>Credit_History</th>\n",
       "      <th>Property_Area</th>\n",
       "      <th>Loan_Status</th>\n",
       "    </tr>\n",
       "  </thead>\n",
       "  <tbody>\n",
       "    <tr>\n",
       "      <th>0</th>\n",
       "      <td>LP001002</td>\n",
       "      <td>Male</td>\n",
       "      <td>No</td>\n",
       "      <td>0</td>\n",
       "      <td>Graduate</td>\n",
       "      <td>No</td>\n",
       "      <td>5849</td>\n",
       "      <td>0.0</td>\n",
       "      <td>NaN</td>\n",
       "      <td>360.0</td>\n",
       "      <td>1.0</td>\n",
       "      <td>Urban</td>\n",
       "      <td>1</td>\n",
       "    </tr>\n",
       "    <tr>\n",
       "      <th>1</th>\n",
       "      <td>LP001003</td>\n",
       "      <td>Male</td>\n",
       "      <td>Yes</td>\n",
       "      <td>1</td>\n",
       "      <td>Graduate</td>\n",
       "      <td>No</td>\n",
       "      <td>4583</td>\n",
       "      <td>1508.0</td>\n",
       "      <td>128.0</td>\n",
       "      <td>360.0</td>\n",
       "      <td>1.0</td>\n",
       "      <td>Rural</td>\n",
       "      <td>0</td>\n",
       "    </tr>\n",
       "    <tr>\n",
       "      <th>2</th>\n",
       "      <td>LP001005</td>\n",
       "      <td>Male</td>\n",
       "      <td>Yes</td>\n",
       "      <td>0</td>\n",
       "      <td>Graduate</td>\n",
       "      <td>Yes</td>\n",
       "      <td>3000</td>\n",
       "      <td>0.0</td>\n",
       "      <td>66.0</td>\n",
       "      <td>360.0</td>\n",
       "      <td>1.0</td>\n",
       "      <td>Urban</td>\n",
       "      <td>1</td>\n",
       "    </tr>\n",
       "    <tr>\n",
       "      <th>3</th>\n",
       "      <td>LP001006</td>\n",
       "      <td>Male</td>\n",
       "      <td>Yes</td>\n",
       "      <td>0</td>\n",
       "      <td>Not Graduate</td>\n",
       "      <td>No</td>\n",
       "      <td>2583</td>\n",
       "      <td>2358.0</td>\n",
       "      <td>120.0</td>\n",
       "      <td>360.0</td>\n",
       "      <td>1.0</td>\n",
       "      <td>Urban</td>\n",
       "      <td>1</td>\n",
       "    </tr>\n",
       "    <tr>\n",
       "      <th>4</th>\n",
       "      <td>LP001008</td>\n",
       "      <td>Male</td>\n",
       "      <td>No</td>\n",
       "      <td>0</td>\n",
       "      <td>Graduate</td>\n",
       "      <td>No</td>\n",
       "      <td>6000</td>\n",
       "      <td>0.0</td>\n",
       "      <td>141.0</td>\n",
       "      <td>360.0</td>\n",
       "      <td>1.0</td>\n",
       "      <td>Urban</td>\n",
       "      <td>1</td>\n",
       "    </tr>\n",
       "    <tr>\n",
       "      <th>...</th>\n",
       "      <td>...</td>\n",
       "      <td>...</td>\n",
       "      <td>...</td>\n",
       "      <td>...</td>\n",
       "      <td>...</td>\n",
       "      <td>...</td>\n",
       "      <td>...</td>\n",
       "      <td>...</td>\n",
       "      <td>...</td>\n",
       "      <td>...</td>\n",
       "      <td>...</td>\n",
       "      <td>...</td>\n",
       "      <td>...</td>\n",
       "    </tr>\n",
       "    <tr>\n",
       "      <th>609</th>\n",
       "      <td>LP002978</td>\n",
       "      <td>Female</td>\n",
       "      <td>No</td>\n",
       "      <td>0</td>\n",
       "      <td>Graduate</td>\n",
       "      <td>No</td>\n",
       "      <td>2900</td>\n",
       "      <td>0.0</td>\n",
       "      <td>71.0</td>\n",
       "      <td>360.0</td>\n",
       "      <td>1.0</td>\n",
       "      <td>Rural</td>\n",
       "      <td>1</td>\n",
       "    </tr>\n",
       "    <tr>\n",
       "      <th>610</th>\n",
       "      <td>LP002979</td>\n",
       "      <td>Male</td>\n",
       "      <td>Yes</td>\n",
       "      <td>3</td>\n",
       "      <td>Graduate</td>\n",
       "      <td>No</td>\n",
       "      <td>4106</td>\n",
       "      <td>0.0</td>\n",
       "      <td>40.0</td>\n",
       "      <td>180.0</td>\n",
       "      <td>1.0</td>\n",
       "      <td>Rural</td>\n",
       "      <td>1</td>\n",
       "    </tr>\n",
       "    <tr>\n",
       "      <th>611</th>\n",
       "      <td>LP002983</td>\n",
       "      <td>Male</td>\n",
       "      <td>Yes</td>\n",
       "      <td>1</td>\n",
       "      <td>Graduate</td>\n",
       "      <td>No</td>\n",
       "      <td>8072</td>\n",
       "      <td>240.0</td>\n",
       "      <td>253.0</td>\n",
       "      <td>360.0</td>\n",
       "      <td>1.0</td>\n",
       "      <td>Urban</td>\n",
       "      <td>1</td>\n",
       "    </tr>\n",
       "    <tr>\n",
       "      <th>612</th>\n",
       "      <td>LP002984</td>\n",
       "      <td>Male</td>\n",
       "      <td>Yes</td>\n",
       "      <td>2</td>\n",
       "      <td>Graduate</td>\n",
       "      <td>No</td>\n",
       "      <td>7583</td>\n",
       "      <td>0.0</td>\n",
       "      <td>187.0</td>\n",
       "      <td>360.0</td>\n",
       "      <td>1.0</td>\n",
       "      <td>Urban</td>\n",
       "      <td>1</td>\n",
       "    </tr>\n",
       "    <tr>\n",
       "      <th>613</th>\n",
       "      <td>LP002990</td>\n",
       "      <td>Female</td>\n",
       "      <td>No</td>\n",
       "      <td>0</td>\n",
       "      <td>Graduate</td>\n",
       "      <td>Yes</td>\n",
       "      <td>4583</td>\n",
       "      <td>0.0</td>\n",
       "      <td>133.0</td>\n",
       "      <td>360.0</td>\n",
       "      <td>0.0</td>\n",
       "      <td>Semiurban</td>\n",
       "      <td>0</td>\n",
       "    </tr>\n",
       "  </tbody>\n",
       "</table>\n",
       "<p>614 rows × 13 columns</p>\n",
       "</div>"
      ],
      "text/plain": [
       "      Loan_ID  Gender Married Dependents     Education Self_Employed  \\\n",
       "0    LP001002    Male      No          0      Graduate            No   \n",
       "1    LP001003    Male     Yes          1      Graduate            No   \n",
       "2    LP001005    Male     Yes          0      Graduate           Yes   \n",
       "3    LP001006    Male     Yes          0  Not Graduate            No   \n",
       "4    LP001008    Male      No          0      Graduate            No   \n",
       "..        ...     ...     ...        ...           ...           ...   \n",
       "609  LP002978  Female      No          0      Graduate            No   \n",
       "610  LP002979    Male     Yes          3      Graduate            No   \n",
       "611  LP002983    Male     Yes          1      Graduate            No   \n",
       "612  LP002984    Male     Yes          2      Graduate            No   \n",
       "613  LP002990  Female      No          0      Graduate           Yes   \n",
       "\n",
       "     ApplicantIncome  CoapplicantIncome  LoanAmount  Loan_Amount_Term  \\\n",
       "0               5849                0.0         NaN             360.0   \n",
       "1               4583             1508.0       128.0             360.0   \n",
       "2               3000                0.0        66.0             360.0   \n",
       "3               2583             2358.0       120.0             360.0   \n",
       "4               6000                0.0       141.0             360.0   \n",
       "..               ...                ...         ...               ...   \n",
       "609             2900                0.0        71.0             360.0   \n",
       "610             4106                0.0        40.0             180.0   \n",
       "611             8072              240.0       253.0             360.0   \n",
       "612             7583                0.0       187.0             360.0   \n",
       "613             4583                0.0       133.0             360.0   \n",
       "\n",
       "     Credit_History Property_Area  Loan_Status  \n",
       "0               1.0         Urban            1  \n",
       "1               1.0         Rural            0  \n",
       "2               1.0         Urban            1  \n",
       "3               1.0         Urban            1  \n",
       "4               1.0         Urban            1  \n",
       "..              ...           ...          ...  \n",
       "609             1.0         Rural            1  \n",
       "610             1.0         Rural            1  \n",
       "611             1.0         Urban            1  \n",
       "612             1.0         Urban            1  \n",
       "613             0.0     Semiurban            0  \n",
       "\n",
       "[614 rows x 13 columns]"
      ]
     },
     "execution_count": 121,
     "metadata": {},
     "output_type": "execute_result"
    }
   ],
   "source": [
    "train_data"
   ]
  },
  {
   "cell_type": "code",
   "execution_count": 124,
   "id": "6afcb655",
   "metadata": {},
   "outputs": [
    {
     "data": {
      "text/plain": [
       "<AxesSubplot:>"
      ]
     },
     "execution_count": 124,
     "metadata": {},
     "output_type": "execute_result"
    },
    {
     "data": {
      "image/png": "[encoded data removed]",
      "text/plain": [
       "<Figure size 648x432 with 2 Axes>"
      ]
     },
     "metadata": {
      "needs_background": "light"
     },
     "output_type": "display_data"
    }
   ],
   "source": [
    "#heatmap to understand correlation between variables\n",
    "corr_matrix = train_data.corr()\n",
    "f, ax = plt.subplots(figsize=(9, 6))\n",
    "sns.heatmap(corr_matrix, vmax=.8, square=True, cmap=\"BuPu\")"
   ]
  },
  {
   "cell_type": "raw",
   "id": "4fb551b9",
   "metadata": {},
   "source": [
    "Highly correlated variables are (ApplicantIncome - LoanAmount)\n",
    "Also (Credit_History - Loan_Status). is higly correlated\n",
    "LoanAmount is also correlated with CoapplicantIncome."
   ]
  },
  {
   "cell_type": "markdown",
   "id": "4061aa7d",
   "metadata": {},
   "source": [
    "# Treatment  of Missing Values and Outliers\n"
   ]
  },
  {
   "cell_type": "code",
   "execution_count": 125,
   "id": "a506bb0d",
   "metadata": {},
   "outputs": [
    {
     "data": {
      "text/plain": [
       "Loan_ID               0\n",
       "Gender               13\n",
       "Married               3\n",
       "Dependents           15\n",
       "Education             0\n",
       "Self_Employed        32\n",
       "ApplicantIncome       0\n",
       "CoapplicantIncome     0\n",
       "LoanAmount           22\n",
       "Loan_Amount_Term     14\n",
       "Credit_History       50\n",
       "Property_Area         0\n",
       "Loan_Status           0\n",
       "dtype: int64"
      ]
     },
     "execution_count": 125,
     "metadata": {},
     "output_type": "execute_result"
    }
   ],
   "source": [
    "train_data.isnull().sum()"
   ]
  },
  {
   "cell_type": "code",
   "execution_count": 129,
   "id": "d999eca7",
   "metadata": {},
   "outputs": [],
   "source": [
    "#For Categorical Values we replace the missing values by most_frquent or mode\n",
    "train_data['Gender'].fillna(train_data['Gender'].mode()[0], inplace=True)\n",
    "train_data['Married'].fillna(train_data['Married'].mode()[0], inplace=True) \n",
    "train_data['Dependents'].fillna(train_data['Dependents'].mode()[0], inplace=True) \n",
    "train_data['Self_Employed'].fillna(train_data['Self_Employed'].mode()[0], inplace=True) \n",
    "train_data['Credit_History'].fillna(train_data['Credit_History'].mode()[0], inplace=True)\n",
    "train_data['Loan_Amount_Term'].fillna(train_data['Loan_Amount_Term'].mode()[0], inplace=True)"
   ]
  },
  {
   "cell_type": "code",
   "execution_count": 130,
   "id": "4f1ac7c9",
   "metadata": {},
   "outputs": [
    {
     "data": {
      "text/plain": [
       "Loan_ID               0\n",
       "Gender                0\n",
       "Married               0\n",
       "Dependents            0\n",
       "Education             0\n",
       "Self_Employed         0\n",
       "ApplicantIncome       0\n",
       "CoapplicantIncome     0\n",
       "LoanAmount           22\n",
       "Loan_Amount_Term      0\n",
       "Credit_History        0\n",
       "Property_Area         0\n",
       "Loan_Status           0\n",
       "dtype: int64"
      ]
     },
     "execution_count": 130,
     "metadata": {},
     "output_type": "execute_result"
    }
   ],
   "source": [
    "train_data.isnull().sum()"
   ]
  },
  {
   "cell_type": "code",
   "execution_count": 132,
   "id": "47754426",
   "metadata": {},
   "outputs": [],
   "source": [
    "#treating numerical value\n",
    "train_data['LoanAmount'].fillna(train_data['LoanAmount'].median(), inplace=True)"
   ]
  },
  {
   "cell_type": "code",
   "execution_count": 133,
   "id": "b180c120",
   "metadata": {},
   "outputs": [
    {
     "data": {
      "text/plain": [
       "Loan_ID              0\n",
       "Gender               0\n",
       "Married              0\n",
       "Dependents           0\n",
       "Education            0\n",
       "Self_Employed        0\n",
       "ApplicantIncome      0\n",
       "CoapplicantIncome    0\n",
       "LoanAmount           0\n",
       "Loan_Amount_Term     0\n",
       "Credit_History       0\n",
       "Property_Area        0\n",
       "Loan_Status          0\n",
       "dtype: int64"
      ]
     },
     "execution_count": 133,
     "metadata": {},
     "output_type": "execute_result"
    }
   ],
   "source": [
    "train_data.isnull().sum()"
   ]
  },
  {
   "cell_type": "code",
   "execution_count": 134,
   "id": "674fce7a",
   "metadata": {},
   "outputs": [],
   "source": [
    "#applying all changes for test data as well\n",
    "test_data['Gender'].fillna(train_data['Gender'].mode()[0], inplace=True)\n",
    "test_data['Dependents'].fillna(train_data['Dependents'].mode()[0], inplace=True) \n",
    "test_data['Self_Employed'].fillna(train_data['Self_Employed'].mode()[0], inplace=True)\n",
    "test_data['Credit_History'].fillna(train_data['Credit_History'].mode()[0], inplace=True) \n",
    "test_data['Loan_Amount_Term'].fillna(train_data['Loan_Amount_Term'].mode()[0], inplace=True) \n",
    "test_data['LoanAmount'].fillna(train_data['LoanAmount'].median(), inplace=True)"
   ]
  },
  {
   "cell_type": "code",
   "execution_count": 135,
   "id": "14478de5",
   "metadata": {},
   "outputs": [
    {
     "data": {
      "text/plain": [
       "Loan_ID              0\n",
       "Gender               0\n",
       "Married              0\n",
       "Dependents           0\n",
       "Education            0\n",
       "Self_Employed        0\n",
       "ApplicantIncome      0\n",
       "CoapplicantIncome    0\n",
       "LoanAmount           0\n",
       "Loan_Amount_Term     0\n",
       "Credit_History       0\n",
       "Property_Area        0\n",
       "dtype: int64"
      ]
     },
     "execution_count": 135,
     "metadata": {},
     "output_type": "execute_result"
    }
   ],
   "source": [
    "test_data.isnull().sum()"
   ]
  },
  {
   "cell_type": "markdown",
   "id": "3c673294",
   "metadata": {},
   "source": [
    "# Feature Engineering "
   ]
  },
  {
   "cell_type": "code",
   "execution_count": 136,
   "id": "e659e5ff",
   "metadata": {},
   "outputs": [],
   "source": [
    "train_data['Total_Income']=train_data['ApplicantIncome']+train_data['CoapplicantIncome'] \n",
    "test_data['Total_Income']=test_data['ApplicantIncome']+test_data['CoapplicantIncome']"
   ]
  },
  {
   "cell_type": "code",
   "execution_count": 143,
   "id": "9194798f",
   "metadata": {},
   "outputs": [
    {
     "data": {
      "text/plain": [
       "<Figure size 432x288 with 0 Axes>"
      ]
     },
     "metadata": {},
     "output_type": "display_data"
    },
    {
     "data": {
      "image/png": "[encoded data removed]",
      "text/plain": [
       "<Figure size 1728x432 with 2 Axes>"
      ]
     },
     "metadata": {
      "needs_background": "light"
     },
     "output_type": "display_data"
    }
   ],
   "source": [
    "#log transformation of total Income\n",
    "plt.figure(1)\n",
    "plt.figure(figsize = (24,6))\n",
    "plt.subplot(121)\n",
    "sns.distplot(train_data['Total_Income'])\n",
    "plt.subplot(122)\n",
    "train_data['Total_Income_log'] = np.log(train_data['Total_Income']) \n",
    "sns.distplot(train_data['Total_Income_log']); \n",
    "test_data['Total_Income_log'] = np.log(test_data['Total_Income'])"
   ]
  },
  {
   "cell_type": "markdown",
   "id": "f7518c19",
   "metadata": {},
   "source": [
    "After taking the log transformation to make the distribution normal.\n",
    "Now the distribution looks much closer to normal"
   ]
  },
  {
   "cell_type": "code",
   "execution_count": 145,
   "id": "369f1356",
   "metadata": {},
   "outputs": [],
   "source": [
    "#dropping the variables which we used to make new variables\n",
    "train_data=train_data.drop(['ApplicantIncome', 'CoapplicantIncome'], axis=1) \n",
    "test_data=test_data.drop(['ApplicantIncome', 'CoapplicantIncome'], axis=1)"
   ]
  },
  {
   "cell_type": "markdown",
   "id": "efb4e385",
   "metadata": {},
   "source": [
    "#  Decision Tree Model"
   ]
  },
  {
   "cell_type": "code",
   "execution_count": 147,
   "id": "d64be200",
   "metadata": {},
   "outputs": [],
   "source": [
    "#drop the Loan_ID variable \n",
    "train_data=train_data.drop('Loan_ID',axis=1) \n",
    "test_data=test_data.drop('Loan_ID',axis=1)"
   ]
  },
  {
   "cell_type": "code",
   "execution_count": 148,
   "id": "4670b147",
   "metadata": {},
   "outputs": [],
   "source": [
    "#Seperate dependent and independent variable\n",
    "X = train_data.drop('Loan_Status',1)\n",
    "y = train_data['Loan_Status']"
   ]
  },
  {
   "cell_type": "code",
   "execution_count": 150,
   "id": "7929dda8",
   "metadata": {},
   "outputs": [],
   "source": [
    "#creating dummy variables for the categorical variables\n",
    "X=pd.get_dummies(X) \n",
    "train_data=pd.get_dummies(train_data) \n",
    "test_data=pd.get_dummies(test_data)"
   ]
  },
  {
   "cell_type": "code",
   "execution_count": 151,
   "id": "bfd7383f",
   "metadata": {},
   "outputs": [],
   "source": [
    "#import required libraries\n",
    "from sklearn import tree\n",
    "from sklearn.model_selection import StratifiedKFold\n",
    "from sklearn.metrics import accuracy_score"
   ]
  },
  {
   "cell_type": "code",
   "execution_count": 152,
   "id": "25139a62",
   "metadata": {},
   "outputs": [
    {
     "name": "stdout",
     "output_type": "stream",
     "text": [
      "\n",
      "1 of kfold 5\n",
      "accuracy_score 0.6341463414634146\n",
      "\n",
      "2 of kfold 5\n",
      "accuracy_score 0.6991869918699187\n",
      "\n",
      "3 of kfold 5\n",
      "accuracy_score 0.7154471544715447\n",
      "\n",
      "4 of kfold 5\n",
      "accuracy_score 0.7886178861788617\n",
      "\n",
      "5 of kfold 5\n",
      "accuracy_score 0.6885245901639344\n"
     ]
    }
   ],
   "source": [
    "i=1 \n",
    "kf = StratifiedKFold(n_splits=5,random_state=3,shuffle=True) \n",
    "accuracy_list = []\n",
    "for train_index,test_index in kf.split(X,y):\n",
    "    print('\\n{} of kfold {}'.format(i,kf.n_splits))   \n",
    "    xtr,xvl = X.loc[train_index],X.loc[test_index]     \n",
    "    ytr,yvl = y[train_index],y[test_index]         \n",
    "    model = tree.DecisionTreeClassifier(random_state=1)     \n",
    "    model.fit(xtr, ytr)     \n",
    "    pred_test = model.predict(xvl)     \n",
    "    score = accuracy_score(yvl,pred_test) \n",
    "    accuracy_list.append(score)\n",
    "    print('accuracy_score',score)     \n",
    "    i+=1 \n",
    "    "
   ]
  },
  {
   "cell_type": "code",
   "execution_count": 153,
   "id": "d692a4c3",
   "metadata": {},
   "outputs": [
    {
     "name": "stdout",
     "output_type": "stream",
     "text": [
      "0.7051845928295348\n"
     ]
    }
   ],
   "source": [
    "mean_accuracy = sum(accuracy_list)/ len(accuracy_list)\n",
    "print(mean_accuracy)"
   ]
  },
  {
   "cell_type": "markdown",
   "id": "b45bcaa7",
   "metadata": {},
   "source": [
    "Mean Accuracy of model is 70.51%"
   ]
  },
  {
   "cell_type": "code",
   "execution_count": null,
   "id": "3ee72b8b",
   "metadata": {},
   "outputs": [],
   "source": []
  }
 ],
 "metadata": {
  "kernelspec": {
   "display_name": "Python 3",
   "language": "python",
   "name": "python3"
  },
  "language_info": {
   "codemirror_mode": {
    "name": "ipython",
    "version": 3
   },
   "file_extension": ".py",
   "mimetype": "text/x-python",
   "name": "python",
   "nbconvert_exporter": "python",
   "pygments_lexer": "ipython3",
   "version": "3.8.8"
  }
 },
 "nbformat": 4,
 "nbformat_minor": 5
}
